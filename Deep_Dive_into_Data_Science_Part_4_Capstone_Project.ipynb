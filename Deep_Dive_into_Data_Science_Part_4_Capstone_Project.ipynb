{
 "cells": [
  {
   "cell_type": "markdown",
   "metadata": {},
   "source": [
    "# Capstone Project"
   ]
  },
  {
   "cell_type": "markdown",
   "metadata": {},
   "source": [
    "> **Copyright Notice**    \n",
    "> \n",
    "> This IPython notebook is part of the **Deep Dive into Data Science** training program at Nexteer Automotive.  \n",
    "> It incorporates materials from **Coursera**'s **Deep Learning Specialization**, **TensorFlow: Advanced Techniques Specialization**, and **Mathematics for Machine Learning and Data Science** Specialization, licensed under the **Creative Commons Attribution-ShareAlike 2.0 (CC BY-SA 2.0)**, as well as other sources (including, but not limited to, enhancements developed with the assistance of generative AI tools).  \n",
    "> All original content created for this program, and all adaptations of source materials, are the intellectual property of Nexteer Automotive and are licensed under the same **Creative Commons Attribution-ShareAlike 2.0 (CC BY-SA 2.0)** license."
   ]
  },
  {
   "cell_type": "markdown",
   "metadata": {},
   "source": [
    "## $1.$ Dataset & Objective"
   ]
  },
  {
   "cell_type": "markdown",
   "metadata": {},
   "source": [
    "### $1.1$ [FordA Dataset](https://www.timeseriesclassification.com/description.php?Dataset=FordA) "
   ]
  },
  {
   "cell_type": "markdown",
   "metadata": {},
   "source": [
    "This data was originally used in a competition in the IEEE World Congress on Computational Intelligence, 2008. The classification problem is to diagnose whether a certain symptom exists or does not exist in an automotive subsystem. Each case consists of 500 measurements of engine noise and a classification. There are two separate problems: For FordA the Train and test data set were collected in typical operating conditions, with minimal noise contamination."
   ]
  },
  {
   "cell_type": "markdown",
   "metadata": {},
   "source": [
    "| Train Size | Test Size | Length | Number of Classes | Number of Dimensions | Type | \n",
    "| -------- | -------- | -------- | -------- | -------- | -------- | \n",
    "| 3601  | 1320 | 500 | 2 | 1 | SENSOR |"
   ]
  },
  {
   "cell_type": "code",
   "execution_count": null,
   "metadata": {},
   "outputs": [],
   "source": [
    "# Code source: Timeseries classification from scratch - Keras Code Examples \n",
    "# Link: https://keras.io/examples/timeseries/timeseries_classification_from_scratch/\n",
    "import numpy as np\n",
    "\n",
    "def readucr(filename):\n",
    "    data = np.loadtxt(filename, delimiter=\"\\t\")\n",
    "    y = data[:, 0]\n",
    "    x = data[:, 1:]\n",
    "    return x, y.astype(int)\n",
    "\n",
    "root_url = \"https://raw.githubusercontent.com/hfawaz/cd-diagram/master/FordA/\"\n",
    "\n",
    "x_train, y_train = readucr(root_url + \"FordA_TRAIN.tsv\")\n",
    "x_test, y_test = readucr(root_url + \"FordA_TEST.tsv\")"
   ]
  },
  {
   "cell_type": "markdown",
   "metadata": {},
   "source": [
    "### $1.2$ Objective"
   ]
  },
  {
   "cell_type": "markdown",
   "metadata": {},
   "source": [
    "Your objective is to develop a binary classifier that can effectively classify FordA time series dataset. Minimum performance for your choice of metric(s) (i.e., accuracy, precision, recall, F1, etc.) is `90%` on the testing set. **Transfer learning is not premitted**.\n",
    "\n",
    "A more challenging goal would be exceeding `93%` testing performance while maintaining a generalization gap (overfitting) of less than `4%`.\n",
    "\n",
    "**Note:** While the state-of-the-art (SOTA) performance on this dataset surpasses these targets, your primary focus should be on solving the problem by applying the techniques you've learned—not outperforming the SOTA.\n"
   ]
  },
  {
   "cell_type": "markdown",
   "metadata": {},
   "source": [
    "## $2.$ Model Development"
   ]
  },
  {
   "cell_type": "markdown",
   "metadata": {},
   "source": [
    "### $2.1$ Data Preparation"
   ]
  },
  {
   "cell_type": "markdown",
   "metadata": {},
   "source": [
    "* Research what type of data preparation is appropriate for time series data\n",
    "* Prepare data for model development as needed"
   ]
  },
  {
   "cell_type": "markdown",
   "metadata": {},
   "source": [
    "**Hint**: Minimal data preparation is needed for this dataset!"
   ]
  },
  {
   "cell_type": "markdown",
   "metadata": {},
   "source": [
    "### $2.2$ Traning & Validation"
   ]
  },
  {
   "cell_type": "markdown",
   "metadata": {},
   "source": [
    "Follow the Model Development Workflow (Module 3 - Section 4). Please make sure you:\n",
    "* Define appropriate metric(s) and explain the rationale behind choosing them\n",
    "* Define a baseline for model development\n",
    "* Devolop a deep Convolutional Neural Network with `Conv1D` layers using functional API (you may use other layer types such as `LSTM` or `GRU` in combination with `Conv1D` but not without it!)\n",
    "* Convert your best model to a class object using Subclassing API\n",
    "* Use a custom training loop and graph-mode excution mode and see how much you can improve training efficiency"
   ]
  },
  {
   "cell_type": "markdown",
   "metadata": {},
   "source": [
    "**Hint**: Try to implement the architectures that you have studied but using `Conv1D` instead `Conv2D`. "
   ]
  },
  {
   "cell_type": "markdown",
   "metadata": {},
   "source": [
    "## $3.$ Delivering Results"
   ]
  },
  {
   "cell_type": "markdown",
   "metadata": {},
   "source": [
    "### $3.1$ High-Level Presentation"
   ]
  },
  {
   "cell_type": "markdown",
   "metadata": {},
   "source": [
    "Put together a high level presentation for a not-so-technical audience that includes the following:  \n",
    "* Problem Statement (ML Objective)\n",
    "* Dataset overview\n",
    "* Evaluation Metrics\n",
    "* Data Preparation \n",
    "* Baseline Model Performance\n",
    "* Explored Model Architectures\n",
    "* Best Model Performance\n",
    "    * Architecture\n",
    "    * Metric scores (train-dev & test)\n",
    "    * Outline of advanced techniques utilized"
   ]
  },
  {
   "cell_type": "markdown",
   "metadata": {},
   "source": [
    "### $3.2$ Technical Discussion & Code Review"
   ]
  },
  {
   "cell_type": "markdown",
   "metadata": {},
   "source": [
    "* Use a copy of this notebook for model development\n",
    "* Prepare for a code walk-through session"
   ]
  },
  {
   "cell_type": "markdown",
   "metadata": {},
   "source": [
    "Good luck!"
   ]
  }
 ],
 "metadata": {
  "kernelspec": {
   "display_name": "deep-dive-ds",
   "language": "python",
   "name": "python3"
  },
  "language_info": {
   "name": "python",
   "version": "3.10.16"
  }
 },
 "nbformat": 4,
 "nbformat_minor": 2
}
