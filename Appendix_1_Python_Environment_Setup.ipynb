{
 "cells": [
  {
   "cell_type": "markdown",
   "id": "e88dc04a",
   "metadata": {},
   "source": [
    "## Python Environment Setup"
   ]
  },
  {
   "cell_type": "markdown",
   "id": "cef47247",
   "metadata": {},
   "source": [
    "> **Copyright Notice**    \n",
    "> \n",
    "> This IPython notebook is part of the **Deep Dive into Data Science** training program at Nexteer Automotive.  \n",
    "> It incorporates materials from **Coursera**'s **Deep Learning Specialization**, **TensorFlow: Advanced Techniques Specialization**, and **Mathematics for Machine Learning and Data Science** Specialization, licensed under the **Creative Commons Attribution-ShareAlike 2.0 (CC BY-SA 2.0)**, as well as other sources (including, but not limited to, enhancements developed with the assistance of generative AI tools).  \n",
    "> All original content created for this program, and all adaptations of source materials, are the intellectual property of Nexteer Automotive and are licensed under the same **Creative Commons Attribution-ShareAlike 2.0 (CC BY-SA 2.0)** license.`"
   ]
  },
  {
   "cell_type": "markdown",
   "id": "2846c536",
   "metadata": {},
   "source": [
    "This program requires specific Python libraries for optimal performance. You can create the necessary environment using either method below.\n",
    "\n",
    "**Option 1: Using the `YAML` Environment File**\n",
    "\n",
    "A `YAML` file (`environment.yml`), included in this repository, precisely defines all required Python libraries and their versions. This is the recommended approach if you have an Anaconda Business subscription through Nexteer.\n",
    "\n",
    "To set up your environment with the `YAML` file:\n",
    "\n",
    "1.  Ensure `conda` is installed on your system.\n",
    "2.  Open your Anaconda Prompt (Run as administrator) and navigate to the repository's root directory by executing: `cd root_dir_path`  \n",
    "3.  Execute: `conda env create --file environment.yaml`\n",
    "4.  Activate in IDE (e.g., VS Code): Select the `deep-dive-ds` environment as your Python interpreter within your IDE's settings.\n",
    "\n",
    "**Option 2: Manual Installation via `pip`**\n",
    "\n",
    "Alternatively, you can manually install the required packages using `pip`. Run the following commands to install the required libraries:"
   ]
  },
  {
   "cell_type": "code",
   "execution_count": null,
   "id": "ada8e2eb",
   "metadata": {},
   "outputs": [],
   "source": [
    "# Install dependencies  \n",
    "!pip install pip==25.0.1\n",
    "!pip install pandas==1.4.2\n",
    "!pip install scipy==1.15.2\n",
    "!pip install numpy==1.24.4\n",
    "!pip install pycocotools==2.0.8\n",
    "!pip install pillow==9.5.0\n",
    "!pip install jax==0.4.35\n",
    "!pip install jaxlib==0.4.35\n",
    "\n",
    "# Install pip dependencies\n",
    "!pip install setuptools==75.8.2\n",
    "!pip install wheel==0.45.1\n",
    "!pip install protobuf==3.19.6\n",
    "!pip install tensorflow==2.11.0\n",
    "!pip install tensorflow-hub==0.16.1\n",
    "!pip install tensorflow-datasets==4.8.3\n",
    "!pip install tensorboard==2.11.2\n",
    "!pip install opencv-python==4.11.0.86\n",
    "!pip install scikit-learn==1.6.1\n",
    "!pip install graphviz==0.20.3\n",
    "!pip install pydot==3.0.4\n",
    "!pip install ipython==8.34.0\n",
    "!pip install ipykernel==6.29.5\n",
    "!pip install ipywidgets==8.1.5\n",
    "!pip install matplotlib==3.10.1\n",
    "!pip install seaborn==0.13.2\n",
    "!pip install plotly==6.0.1\n",
    "!pip install tqdm==4.67.1\n",
    "!pip install zipp==3.21.0\n",
    "!pip install sympy==1.13.3\n",
    "!pip install pyampute==0.0.3\n",
    "!pip install missingno==0.5.2\n",
    "!pip install statsmodels==0.14.4\n",
    "!pip install Jinja2"
   ]
  }
 ],
 "metadata": {
  "kernelspec": {
   "display_name": "deep-dive-ds",
   "language": "python",
   "name": "python3"
  },
  "language_info": {
   "name": "python",
   "version": "3.10.16"
  }
 },
 "nbformat": 4,
 "nbformat_minor": 5
}
