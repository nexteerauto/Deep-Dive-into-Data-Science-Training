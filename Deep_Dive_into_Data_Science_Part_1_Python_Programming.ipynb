{
  "cells": [
    {
      "cell_type": "markdown",
      "metadata": {},
      "source": [
        "# Python Programming"
      ]
    },
    {
      "cell_type": "markdown",
      "metadata": {},
      "source": [
        "> **Copyright Notice**    \n",
        "> \n",
        "> This IPython notebook is part of the **Deep Dive into Data Science** training program at Nexteer Automotive.  \n",
        "> It incorporates materials from **Coursera**'s **Deep Learning Specialization**, **TensorFlow: Advanced Techniques Specialization**, and **Mathematics for Machine Learning and Data Science** Specialization, licensed under the **Creative Commons Attribution-ShareAlike 2.0 (CC BY-SA 2.0)**, as well as other sources (including, but not limited to, enhancements developed with the assistance of generative AI tools).  \n",
        "> All original content created for this program, and all adaptations of source materials, are the intellectual property of Nexteer Automotive and are licensed under the same **Creative Commons Attribution-ShareAlike 2.0 (CC BY-SA 2.0)** license."
      ]
    },
    {
      "cell_type": "markdown",
      "metadata": {},
      "source": [
        "## $1.$ Fundamentals"
      ]
    },
    {
      "cell_type": "markdown",
      "metadata": {},
      "source": [
        "### Data Types"
      ]
    },
    {
      "cell_type": "markdown",
      "metadata": {},
      "source": [
        "**Built-in Data Types:**\n",
        "* Numeric:\n",
        "    * `int`\n",
        "    * `float`\n",
        "    * `complex` &nbsp; (`j` represents the imaginary unit as in `3 + 5j`)\n",
        "* String (`str`)\n",
        "* Boolean (`bool`)\n",
        "* Collections:\n",
        "    * `list`: &ensp; Ordered mutable collection of various items enclosed in `[]`\n",
        "    * `tuple`: &nbsp;Ordered immutable collection of various items enclosed in `()`\n",
        "    * `set`: &emsp; Unordered collection of *unique* items enclosed in `{}`\n",
        "    * `dict`: &emsp; Unordered collection of key-value pairs enclosed in `{}` as in `{'key': value}`\n"
      ]
    },
    {
      "cell_type": "markdown",
      "metadata": {},
      "source": [
        "**Useful Methods:**\n",
        "* Strings (`str`):\n",
        "    * `lower()`: Converts all characters in the string to lowercase  \n",
        "    * `upper()`: Converts all characters in the string to uppercase  \n",
        "    * `title()`: Converts the first letter of the string to uppercase and the rest to lowercase\n",
        "    * `isalnum()`: Checks if the string consists of only alphanumeric characters (letters and numbers)\n",
        "    * `count(substr)`: Counts the number of occurrences of substring `substr` within the string\n",
        "    * `find(substr)`: Returns the index of the first occurrence of substring `substr` within the string, or `-1` if not found\n",
        "    * `replace(old, new)`: Replaces all occurrences of `old` substring with `new` substring\n",
        "    * `split(sep)`: Splits the string into a list of substrings based on the separator `sep` (default is whitespace)\n",
        "    * `join(iterable)`: Joins the elements of an iterable (like a list) into a single string with the separator specified in join\n",
        "\n",
        "\n",
        "* Lists (`list`):\n",
        "\n",
        "    * `append(x)`: Adds an item `x` to the end of the list\n",
        "    * `clear()`: Removes all items from the list\n",
        "    * `copy()`: Returns a shallow copy of the list\n",
        "    * `count(x)`: Counts the number of occurrences of element `x` in the list\n",
        "    * `extend(iterable)`: Extends the list by appending all elements from the iterable (like another list)\n",
        "    * `index(x)`: Returns the index of the first occurrence of element `x` in the list, raises an error if not found\n",
        "    * `insert(i, x)`: Inserts element `x` at a specific index `i` in the list\n",
        "    * `pop()`: Removes and returns the last item from the list. By default, you can specify an index to remove from a specific location\n",
        "    * `remove(x)`: Removes the first occurrence of element `x` from the list, raises an error if not found\n",
        "    * `reverse()`: Reverses the order of elements in the list\n",
        "    * `sort()`: Sorts the items of the list in ascending order\n",
        "\n",
        "* Tuples (`tuple`):\n",
        "    * `count(x)`: Similar to lists, counts the number of occurrences of element `x` in the tuple\n",
        "    * `index(x)`: Similar to lists, returns the index of the first occurrence of element `x` in the tuple, raises an error if not found\n",
        "\n",
        "* Sets (`set`):\n",
        "    * `add(x)`: Adds element `x` to the set\n",
        "    * `clear()`: Removes all elements from the set\n",
        "    * `remove(x)`: Attempts to remove element `x` from the set (doesn't raise an error if not found)\n",
        "    * `intersection(other_set)`: Returns a new set containing elements common to both sets\n",
        "    * `isdisjoint(other_set)`: Checks if two sets have no overlapping elements (are disjoint)\n",
        "    * `issubset(other_set)`: Checks if all elements of a set are in another set\n"
      ]
    },
    {
      "cell_type": "markdown",
      "metadata": {},
      "source": [
        "### Basic Operations"
      ]
    },
    {
      "cell_type": "markdown",
      "metadata": {},
      "source": [
        "Topics:\n",
        "* Manipulating numeric values and strings\n",
        "* Manipulating lists, sets, and dictionaries"
      ]
    },
    {
      "cell_type": "code",
      "execution_count": null,
      "metadata": {
        "id": "6LNZZvwkU8aw"
      },
      "outputs": [],
      "source": [
        "# quotient\n",
        "i//j\n",
        "\n",
        "# remainder\n",
        "i%j\n",
        "\n",
        "# power\n",
        "i**j\n",
        "pow(i, j)\n",
        "\n",
        "# absolute value\n",
        "abs(i)\n",
        "\n",
        "# round to n decimal places\n",
        "round(i, indigits=n)"
      ]
    },
    {
      "cell_type": "code",
      "execution_count": null,
      "metadata": {
        "id": "TynT79HZaL0V"
      },
      "outputs": [],
      "source": [
        "import math\n",
        "\n",
        "# constants\n",
        "math.pi\n",
        "\n",
        "# trig\n",
        "math.sin(i)\n",
        "\n",
        "# square root\n",
        "math.sqrt(i)\n",
        "\n",
        "# floor\n",
        "math.floor(i)\n",
        "\n",
        "# ceiling\n",
        "math.ceil(i)\n",
        "\n",
        "# remove decimals\n",
        "math.trunc(i)"
      ]
    },
    {
      "cell_type": "code",
      "execution_count": null,
      "metadata": {
        "id": "xhOnrKR4VwK5"
      },
      "outputs": [],
      "source": [
        "# slice strings     s[start:end:step]\n",
        "s = 'abcdefgh'\n",
        "s[0]\t\t        # evaluates to \"a\"\n",
        "s[-1]\t\t        # evaluates to \"h\"\n",
        "s[1:4]\t\t        # evaluates to \"bcd\"\n",
        "s[::2]\t\t        # evaluates to \"aceg\"\n",
        "\n",
        "# reverse string\n",
        "s[::-1]\n",
        "\n",
        "# concatenate strings\n",
        "s + t\n",
        "s += t\n",
        "\n",
        "# repeat string n times\n",
        "s * n\n",
        "s *= n\n",
        "\n",
        "# split strings\n",
        "s = \"I <3 cs\"\n",
        "list(s) \t\t    # returns ['I',' ','<','3',' ','c','s']\n",
        "s.split('<')  \t\t# returns ['I ', '3 cs']\n",
        "\n",
        "# join strings\n",
        "L = ['a', 'b', 'c']\n",
        "''.join(L) \t\t\t# returns \"abc\"\n",
        "'_'.join(L)\t\t\t# returns \"a_b_c\"\n",
        "\n",
        "# string formatting\n",
        "name = \"John\"\n",
        "f\"Hello, {name}\"            # evaluates to \"Hello, John\"\n",
        "\"Hello, %s\" % name          # evaluates to \"Hello, John\"\n",
        "\"Hello, {}\".format(name)    # evaluates to \"Hello, John\""
      ]
    },
    {
      "cell_type": "code",
      "execution_count": null,
      "metadata": {
        "id": "84TFwJ8BVh0S"
      },
      "outputs": [],
      "source": [
        "# take input - input returns a string!\n",
        "x = float(input(\"Enter a number for x: \"))\n",
        "y = int(input(\"Enter a number for y: \"))"
      ]
    },
    {
      "cell_type": "code",
      "execution_count": null,
      "metadata": {
        "id": "vB7-LlNPqDFv"
      },
      "outputs": [],
      "source": [
        "# check if x and y (don't) refer to the same object in memory\n",
        "x is y\n",
        "x is not y\n",
        "\n",
        "# (in)equality\n",
        "x == y\n",
        "x != y\n",
        "\n",
        "# check if x is an empty string/sequence/object\n",
        "num = 10\n",
        "empty_str = \"\"\n",
        "bool(num)           # evaluates to True\n",
        "bool(empty_str)     # evaluates to False"
      ]
    },
    {
      "cell_type": "code",
      "execution_count": null,
      "metadata": {
        "id": "GYc20u6wt0kw"
      },
      "outputs": [],
      "source": [
        "# sort list\n",
        "L = [9, 6, 0, 3]\n",
        "sorted(L)\t\t    # returns the sorted list but does not mutate\n",
        "L.sort()\t\t    # mutates the list\n",
        "\n",
        "# append or extend list\n",
        "L.append([5, 6])    # returns [9, 6, 0, 3, [5, 6]]\n",
        "L.extend([5, 6])    # returns [9, 6, 0, 3, 4, 5, 6]"
      ]
    },
    {
      "cell_type": "code",
      "execution_count": null,
      "metadata": {
        "id": "Wutzvt8zucxO"
      },
      "outputs": [],
      "source": [
        "# union and intersection of sets\n",
        "s1 = {1, 2, 3}\n",
        "s2 = {3, 4, 5}\n",
        "s1.union(s2)\t\t# returns {1, 2, 3, 4, 5}\n",
        "s1.intersection(s2)\t# returns {3}\n",
        "\n",
        "# check if is subset\n",
        "s1.issubset(s2)\t\t# returns False"
      ]
    },
    {
      "cell_type": "code",
      "execution_count": null,
      "metadata": {},
      "outputs": [],
      "source": [
        "# get the value for a key\n",
        "my_dict = {\"name\": \"Alice\", \"age\": 30, \"city\": \"New York\"}\n",
        "my_dict.get(\"name\")     # returns \"Alice\"\n",
        "\n",
        "# get the value for a non-existent key with a default value\n",
        "my_dict.get(\"gender\", \"Unknown\")     # returns \"Unknown\"\n",
        "\n",
        "# get all key-value pairs as tuples in a view object\n",
        "my_dict.items()         # returns a view object\n",
        "\n",
        "# get all keys and values as a view objects\n",
        "my_dict.keys()          # returns a view object\n",
        "my_dict.values()        # returns a view object\n",
        "\n",
        "# update dictionary with new key-value pairs\n",
        "new_info = {\"occupation\": \"Software Engineer\"}\n",
        "my_dict.update(new_info) # evaluates to {'name': 'Alice', 'age': 30, 'city': 'New York', 'occupation': 'Software Engineer'}"
      ]
    },
    {
      "cell_type": "markdown",
      "metadata": {},
      "source": [
        "### Loops, Conditionals, and Error Handling"
      ]
    },
    {
      "cell_type": "markdown",
      "metadata": {},
      "source": [
        "Topics:\n",
        "* Loops (`for` and `while`)\n",
        "* Conditionals (`if-else`, `break`, `continue`, `pass` statements)\n",
        "* Error Handling (`try`-`except` blocks)\n",
        "* Context Managers (`with` statements)\n"
      ]
    },
    {
      "cell_type": "code",
      "execution_count": 1,
      "metadata": {},
      "outputs": [
        {
          "name": "stdout",
          "output_type": "stream",
          "text": [
            "1\n",
            "2\n",
            "3\n",
            "4\n",
            "5\n"
          ]
        }
      ],
      "source": [
        "# for loop: iterating through a sequence\n",
        "numbers = [1, 2, 3, 4, 5]\n",
        "for num in numbers:\n",
        "    print(num)"
      ]
    },
    {
      "cell_type": "code",
      "execution_count": 2,
      "metadata": {},
      "outputs": [
        {
          "name": "stdout",
          "output_type": "stream",
          "text": [
            "Count is: 0\n",
            "Count is: 1\n",
            "Count is: 2\n"
          ]
        }
      ],
      "source": [
        "# while loop: conditional execution\n",
        "count = 0\n",
        "while count < 3:\n",
        "    print(f\"Count is: {count}\")\n",
        "    count += 1"
      ]
    },
    {
      "cell_type": "code",
      "execution_count": 3,
      "metadata": {},
      "outputs": [
        {
          "name": "stdout",
          "output_type": "stream",
          "text": [
            "x is greater than 5\n"
          ]
        }
      ],
      "source": [
        "# if-else statement\n",
        "x = 10\n",
        "if x > 5:\n",
        "    print(\"x is greater than 5\")\n",
        "else:\n",
        "    print(\"x is not greater than 5\")"
      ]
    },
    {
      "cell_type": "code",
      "execution_count": 4,
      "metadata": {},
      "outputs": [
        {
          "name": "stdout",
          "output_type": "stream",
          "text": [
            "x is greater than 5\n"
          ]
        }
      ],
      "source": [
        "# oneliner if-else statement\n",
        "st = \"x is greater than 5\" if (x > 5) else \"x is not greater than 5\"\n",
        "print(st)"
      ]
    },
    {
      "cell_type": "code",
      "execution_count": 5,
      "metadata": {},
      "outputs": [
        {
          "name": "stdout",
          "output_type": "stream",
          "text": [
            "B\n"
          ]
        }
      ],
      "source": [
        "# if-elif-else statement\n",
        "grade = 85\n",
        "if grade >= 90:\n",
        "    print(\"A\")\n",
        "elif grade >= 80:\n",
        "    print(\"B\")\n",
        "else:\n",
        "    print(\"C\")"
      ]
    },
    {
      "cell_type": "code",
      "execution_count": 6,
      "metadata": {},
      "outputs": [
        {
          "name": "stdout",
          "output_type": "stream",
          "text": [
            "0\n",
            "1\n",
            "2\n",
            "3\n",
            "4\n"
          ]
        }
      ],
      "source": [
        "# break statement: exit loop prematurely\n",
        "for i in range(10):\n",
        "    if i == 5:\n",
        "        break\n",
        "    print(i)"
      ]
    },
    {
      "cell_type": "code",
      "execution_count": 7,
      "metadata": {},
      "outputs": [
        {
          "name": "stdout",
          "output_type": "stream",
          "text": [
            "1\n",
            "3\n",
            "5\n",
            "7\n",
            "9\n"
          ]
        }
      ],
      "source": [
        "# continue statement: skip current iteration\n",
        "for i in range(10):\n",
        "    if i % 2 == 0:\n",
        "        continue\n",
        "    print(i)"
      ]
    },
    {
      "cell_type": "code",
      "execution_count": null,
      "metadata": {},
      "outputs": [],
      "source": [
        "# pass statement: placeholder, does nothing\n",
        "def my_function():\n",
        "    pass  # Function definition but no implementation yet"
      ]
    },
    {
      "cell_type": "code",
      "execution_count": 9,
      "metadata": {},
      "outputs": [
        {
          "name": "stdout",
          "output_type": "stream",
          "text": [
            "Cannot divide by zero!\n",
            "This always executes.\n"
          ]
        }
      ],
      "source": [
        "# try-except block: handling potential errors\n",
        "try:\n",
        "    result = 10 / 0  # Division by zero error\n",
        "\n",
        "except ZeroDivisionError:\n",
        "    print(\"Cannot divide by zero!\")\n",
        "\n",
        "except TypeError: # Optional: Handle other potential errors\n",
        "    print(\"Type error occurred!\")\n",
        "\n",
        "else: # Optional: Execute if no exception occurred in try block\n",
        "    print(\"No error occurred.\")\n",
        "    \n",
        "finally: # Optional: Always execute, regardless of exceptions\n",
        "    print(\"This always executes.\")"
      ]
    },
    {
      "cell_type": "markdown",
      "metadata": {},
      "source": [
        "### Functions & Generators"
      ]
    },
    {
      "cell_type": "markdown",
      "metadata": {},
      "source": [
        "Topics:\n",
        "* Functions\n",
        "* Assertion\n",
        "* Generators"
      ]
    },
    {
      "cell_type": "code",
      "execution_count": 36,
      "metadata": {
        "id": "CwEzxM0eq3eF"
      },
      "outputs": [],
      "source": [
        "# define a simple function\n",
        "def cube_func(x):\n",
        "    \"\"\"Cubes the input number.\"\"\" # docstring for documentation\n",
        "    return x**3"
      ]
    },
    {
      "cell_type": "code",
      "execution_count": 2,
      "metadata": {
        "id": "0nVaOYGZ17yr"
      },
      "outputs": [
        {
          "name": "stdout",
          "output_type": "stream",
          "text": [
            "David\n",
            "Emily\n"
          ]
        }
      ],
      "source": [
        "# distinguish local and global variables\n",
        "def greet():\n",
        "    name = \"David\"          # local variable\n",
        "    return print(name)\n",
        "\n",
        "greet()                     # accesses the local variable 'name' within the function scope\n",
        "\n",
        "name = \"Emily\"              # global variable\n",
        "print(name)                 # accesses the global variable"
      ]
    },
    {
      "cell_type": "code",
      "execution_count": 3,
      "metadata": {
        "id": "t8-DKMlb0w7x"
      },
      "outputs": [
        {
          "name": "stdout",
          "output_type": "stream",
          "text": [
            "Total score: 10\n",
            "Total score: 30\n"
          ]
        }
      ],
      "source": [
        "# access global variables inside a function\n",
        "total_score = 0\n",
        "def calculate_score(points):\n",
        "    global total_score      # declares use of the global variable\n",
        "    total_score += points   # modifies the global variable\n",
        "    print(\"Total score:\", total_score)\n",
        "\n",
        "calculate_score(10)         # returns Total score: 10\n",
        "calculate_score(20)         # returns Total score: 30"
      ]
    },
    {
      "cell_type": "code",
      "execution_count": 4,
      "metadata": {},
      "outputs": [
        {
          "ename": "AssertionError",
          "evalue": "Cannot divide by zero!",
          "output_type": "error",
          "traceback": [
            "\u001b[1;31m---------------------------------------------------------------------------\u001b[0m",
            "\u001b[1;31mAssertionError\u001b[0m                            Traceback (most recent call last)",
            "Cell \u001b[1;32mIn[4], line 6\u001b[0m\n\u001b[0;32m      3\u001b[0m     \u001b[38;5;28;01massert\u001b[39;00m b \u001b[38;5;241m!=\u001b[39m \u001b[38;5;241m0\u001b[39m, \u001b[38;5;124m\"\u001b[39m\u001b[38;5;124mCannot divide by zero!\u001b[39m\u001b[38;5;124m\"\u001b[39m \u001b[38;5;66;03m# Assertion with error message\u001b[39;00m\n\u001b[0;32m      4\u001b[0m     \u001b[38;5;28;01mreturn\u001b[39;00m a \u001b[38;5;241m/\u001b[39m b\n\u001b[1;32m----> 6\u001b[0m \u001b[43mdivide\u001b[49m\u001b[43m(\u001b[49m\u001b[38;5;241;43m10\u001b[39;49m\u001b[43m,\u001b[49m\u001b[43m \u001b[49m\u001b[38;5;241;43m0\u001b[39;49m\u001b[43m)\u001b[49m\n",
            "Cell \u001b[1;32mIn[4], line 3\u001b[0m, in \u001b[0;36mdivide\u001b[1;34m(a, b)\u001b[0m\n\u001b[0;32m      2\u001b[0m \u001b[38;5;28;01mdef\u001b[39;00m\u001b[38;5;250m \u001b[39m\u001b[38;5;21mdivide\u001b[39m(a, b):\n\u001b[1;32m----> 3\u001b[0m     \u001b[38;5;28;01massert\u001b[39;00m b \u001b[38;5;241m!=\u001b[39m \u001b[38;5;241m0\u001b[39m, \u001b[38;5;124m\"\u001b[39m\u001b[38;5;124mCannot divide by zero!\u001b[39m\u001b[38;5;124m\"\u001b[39m \u001b[38;5;66;03m# Assertion with error message\u001b[39;00m\n\u001b[0;32m      4\u001b[0m     \u001b[38;5;28;01mreturn\u001b[39;00m a \u001b[38;5;241m/\u001b[39m b\n",
            "\u001b[1;31mAssertionError\u001b[0m: Cannot divide by zero!"
          ]
        }
      ],
      "source": [
        "# assertion for debugging and input validation\n",
        "def divide(a, b):\n",
        "    assert b != 0, \"Cannot divide by zero!\" # Assertion with error message\n",
        "    return a / b\n",
        "\n",
        "divide(10, 0)"
      ]
    },
    {
      "cell_type": "code",
      "execution_count": 5,
      "metadata": {},
      "outputs": [
        {
          "name": "stdout",
          "output_type": "stream",
          "text": [
            "Error: Division by zero!\n"
          ]
        }
      ],
      "source": [
        "def divide(a, b):\n",
        "    return a / b\n",
        "\n",
        "# try-except example for function call\n",
        "try:\n",
        "    result = divide(10, 0) # Potential ZeroDivisionError\n",
        "except ZeroDivisionError:\n",
        "    print(\"Error: Division by zero!\")\n",
        "else: # Optional: only if NO exception in try\n",
        "    print(\"Result:\", result)"
      ]
    },
    {
      "cell_type": "code",
      "execution_count": 6,
      "metadata": {},
      "outputs": [
        {
          "name": "stdout",
          "output_type": "stream",
          "text": [
            "1\n",
            "2\n",
            "3\n",
            "4\n",
            "5\n"
          ]
        }
      ],
      "source": [
        "# generator function using 'yield'\n",
        "def count_up_to(n):\n",
        "    for i in range(1, n + 1):\n",
        "        yield i\n",
        "\n",
        "# using the generator in a loop (lazy evaluation)\n",
        "for num in count_up_to(5):\n",
        "    print(num)"
      ]
    },
    {
      "cell_type": "code",
      "execution_count": 7,
      "metadata": {},
      "outputs": [
        {
          "name": "stdout",
          "output_type": "stream",
          "text": [
            "1\n",
            "2\n"
          ]
        }
      ],
      "source": [
        "gen = count_up_to(5)\n",
        "\n",
        "print(next(gen))\n",
        "print(next(gen))"
      ]
    },
    {
      "cell_type": "code",
      "execution_count": null,
      "metadata": {},
      "outputs": [
        {
          "name": "stdout",
          "output_type": "stream",
          "text": [
            "0\n",
            "1\n",
            "4\n"
          ]
        }
      ],
      "source": [
        "# shortcut\n",
        "square_gen = (i**2 for i in range(100))\n",
        "print(next(square_gen))\n",
        "print(next(square_gen))\n",
        "print(next(square_gen))"
      ]
    },
    {
      "cell_type": "markdown",
      "metadata": {},
      "source": [
        "### Visualization with `matplotlib`"
      ]
    },
    {
      "cell_type": "markdown",
      "metadata": {},
      "source": [
        "Topics:\n",
        "* Creating basic plots\n",
        "* Customizing plots\n",
        "* Subplots and layouts"
      ]
    },
    {
      "cell_type": "code",
      "execution_count": 1,
      "metadata": {
        "id": "PINz59UVj3oA"
      },
      "outputs": [],
      "source": [
        "import matplotlib.pyplot as plt"
      ]
    },
    {
      "cell_type": "code",
      "execution_count": null,
      "metadata": {
        "id": "HyAFmH92iQlS"
      },
      "outputs": [],
      "source": [
        "plt.plot(x_data, y_data, label=\"Line\")              # plot line with label\n",
        "plt.scatter(x_data, y_data, marker='o', color='r')  # create scatter plot i.e., points with marker and color\n",
        "plt.bar(categories, values)                         # create bars for categories with corresponding values\n",
        "plt.hist(data, bins=10, edgecolor='black')          # create histogram with 10 bins and black edges\n",
        "plt.pie(data, labels=labels, autopct=\"%1.1f%%\")     # create pie chart with labels and percentages\n",
        "\n",
        "plt.xlim(0, 10)                                     # set x-axis limits\n",
        "plt.xlabel(\"X-axis Label\")                          # label axes\n",
        "plt.xticks(rotation=45)                             # rotate x-axis labels\n",
        "\n",
        "plt.title('title')                                  # add title\n",
        "plt.grid(True)                                      # add gridlines\n",
        "plt.legend()                                        # add legend for clarity\n",
        "plt.show()                                          # display the plotted chart"
      ]
    },
    {
      "cell_type": "code",
      "execution_count": 3,
      "metadata": {
        "colab": {
          "base_uri": "https://localhost:8080/",
          "height": 472
        },
        "id": "7_vk5osFRYIs",
        "outputId": "da9131d5-daf4-4b48-bb83-c4f08466eb5d"
      },
      "outputs": [
        {
          "data": {
            "image/png": "[encoded data removed]",
            "text/plain": [
              "<Figure size 640x480 with 1 Axes>"
            ]
          },
          "metadata": {},
          "output_type": "display_data"
        }
      ],
      "source": [
        "# create a figure and axes\n",
        "fig, ax = plt.subplots()\n",
        "\n",
        "# example data\n",
        "x = [1, 2, 3, 4, 5]\n",
        "y = [3, 7, 4, 1, 5]\n",
        "\n",
        "# plot the data (line plot)\n",
        "ax.plot(x, y, color='teal', linestyle='--', marker='o')\n",
        "\n",
        "# set labels and title\n",
        "ax.set_xlabel(\"X-axis Label\")\n",
        "ax.set_ylabel(\"Y-axis Label\")\n",
        "ax.set_title(\"Line Plot Example\")\n",
        "\n",
        "# show the plot\n",
        "plt.grid(True)\n",
        "plt.show()"
      ]
    },
    {
      "cell_type": "code",
      "execution_count": null,
      "metadata": {},
      "outputs": [
        {
          "data": {
            "image/png": "[encoded data removed]",
            "text/plain": [
              "<Figure size 800x300 with 2 Axes>"
            ]
          },
          "metadata": {},
          "output_type": "display_data"
        }
      ],
      "source": [
        "# example data (different datasets)\n",
        "x1 = [1, 2, 3]\n",
        "y1 = [4, 6, 2]\n",
        "x2 = [4, 5, 6]\n",
        "y2 = [3, 7, 1]\n",
        "\n",
        "# create subplots and plot data\n",
        "fig, (ax1, ax2) = plt.subplots(1,2)                 # 1 row, 2 columns\n",
        "ax1.plot(x1, y1, color='teal')\n",
        "ax2.scatter(x2, y2, color='red')\n",
        "\n",
        "# set labels and titles for each subplot\n",
        "ax1.set_xlabel(\"X-axis\")\n",
        "ax1.set_ylabel(\"Y-axis\")\n",
        "ax1.set_title(\"Subplot 1\")\n",
        "ax2.set_xlabel(\"X\")\n",
        "ax2.set_ylabel(\"Y\")\n",
        "ax2.set_title(\"Subplot 2\")\n",
        "\n",
        "# adjust spacing between subplots\n",
        "ax1.grid(True)\n",
        "ax1.legend('upper left')\n",
        "ax2.grid(True)\n",
        "ax2.legend('upper right')\n",
        "\n",
        "# set figure size and show\n",
        "fig = plt.gcf()\n",
        "fig.set_size_inches(8,3)\n",
        "plt.tight_layout()\n",
        "plt.show()"
      ]
    },
    {
      "cell_type": "markdown",
      "metadata": {},
      "source": [
        "## $2.$ Intermediate Topics"
      ]
    },
    {
      "cell_type": "markdown",
      "metadata": {},
      "source": [
        "### Iterators & Itertools"
      ]
    },
    {
      "cell_type": "markdown",
      "metadata": {},
      "source": [
        "Topics:\n",
        "* Iterator\n",
        "* Itertools"
      ]
    },
    {
      "cell_type": "code",
      "execution_count": 3,
      "metadata": {},
      "outputs": [],
      "source": [
        "# Iterable (e.g., list)\n",
        "my_list = [1, 2, 3]\n",
        "for item in my_list: \n",
        "    pass"
      ]
    },
    {
      "cell_type": "code",
      "execution_count": 4,
      "metadata": {},
      "outputs": [
        {
          "name": "stdout",
          "output_type": "stream",
          "text": [
            "1\n",
            "2\n",
            "3\n"
          ]
        }
      ],
      "source": [
        "# Iterator created from iterable\n",
        "my_iterator = iter(my_list)     # create iterator from list\n",
        "print(next(my_iterator))        # get next item using iterator\n",
        "print(next(my_iterator))\n",
        "print(next(my_iterator))\n",
        "# next(my_iterator)             # raises StopIteration when exhausted"
      ]
    },
    {
      "cell_type": "code",
      "execution_count": null,
      "metadata": {},
      "outputs": [],
      "source": [
        "import itertools"
      ]
    },
    {
      "cell_type": "code",
      "execution_count": null,
      "metadata": {},
      "outputs": [],
      "source": [
        "itertools.cycle()                               # creates an infinite iterator that repeats elements of a sequence\n",
        "itertools.count()                               # generates an infinite sequence of ascending integers\n",
        "itertools.accumulate()                          # accumulates values in a sequence, applying a given function\n",
        "itertools.takewhile()                           # takes elements from an iterable while a condition is True\n",
        "itertools.dropwhile()                           # drops elements from an iterable while a condition is True\n",
        "itertools.zip_longest()                         # iterates over multiple iterables, filling in missing values\n",
        "itertools.product()                             # generates Cartesian product of input iterables\n",
        "itertools.combinations()                        # generates combinations of elements from an iterable\n",
        "itertools.permutations()                        # generates permutations of elements from an iterable\n",
        "itertools.combinations_with_replacement()       # generates combinations with replacement"
      ]
    },
    {
      "cell_type": "code",
      "execution_count": 5,
      "metadata": {},
      "outputs": [
        {
          "name": "stdout",
          "output_type": "stream",
          "text": [
            "10\n",
            "12\n",
            "14\n"
          ]
        }
      ],
      "source": [
        "# Infinite Iterators\n",
        "# count: generate sequence of numbers\n",
        "for i in itertools.count(start=10, step=2):\n",
        "    if i > 15: break\n",
        "    print(i)"
      ]
    },
    {
      "cell_type": "code",
      "execution_count": 6,
      "metadata": {},
      "outputs": [
        {
          "name": "stdout",
          "output_type": "stream",
          "text": [
            "red\n",
            "green\n",
            "red\n",
            "green\n",
            "red\n"
          ]
        }
      ],
      "source": [
        "# cycle: repeat iterable indefinitely\n",
        "colors = itertools.cycle(['red', 'green'])\n",
        "for _ in range(5):\n",
        "    print(next(colors))"
      ]
    },
    {
      "cell_type": "code",
      "execution_count": 7,
      "metadata": {},
      "outputs": [
        {
          "name": "stdout",
          "output_type": "stream",
          "text": [
            "Data\n",
            "Data\n",
            "Data\n"
          ]
        }
      ],
      "source": [
        "# repeat: repeat object\n",
        "for val in itertools.repeat('Data', 3):     # Repeats 'Data' twice\n",
        "    print(val)"
      ]
    },
    {
      "cell_type": "code",
      "execution_count": 8,
      "metadata": {},
      "outputs": [
        {
          "name": "stdout",
          "output_type": "stream",
          "text": [
            "1\n",
            "2\n",
            "a\n",
            "b\n",
            "c\n"
          ]
        }
      ],
      "source": [
        "# Terminating Iterators\n",
        "# chain: combine iterables\n",
        "data1 = [1, 2]\n",
        "data2 = ['a', 'b', 'c']\n",
        "for item in itertools.chain(data1, data2):  # iterate through data1 then data2\n",
        "    print(item)"
      ]
    },
    {
      "cell_type": "code",
      "execution_count": 9,
      "metadata": {},
      "outputs": [
        {
          "name": "stdout",
          "output_type": "stream",
          "text": [
            "A\n",
            "C\n"
          ]
        }
      ],
      "source": [
        "# compress: filter based on selectors\n",
        "data = ['A', 'B', 'C']\n",
        "selectors = [True, False, True]\n",
        "for item in itertools.compress(data, selectors): # returns A and C\n",
        "    print(item)"
      ]
    },
    {
      "cell_type": "code",
      "execution_count": 10,
      "metadata": {},
      "outputs": [
        {
          "name": "stdout",
          "output_type": "stream",
          "text": [
            "2\n",
            "5\n",
            "9\n"
          ]
        }
      ],
      "source": [
        "# accumulate: cumulative operations\n",
        "data = [2, 3, 4]\n",
        "for item in itertools.accumulate(data):                 # running sum\n",
        "    print(item)"
      ]
    },
    {
      "cell_type": "code",
      "execution_count": 11,
      "metadata": {},
      "outputs": [
        {
          "name": "stdout",
          "output_type": "stream",
          "text": [
            "2\n",
            "3\n",
            "4\n"
          ]
        }
      ],
      "source": [
        "for item in itertools.accumulate(data, max):            # running max\n",
        "    print(item)"
      ]
    },
    {
      "cell_type": "code",
      "execution_count": 12,
      "metadata": {},
      "outputs": [
        {
          "name": "stdout",
          "output_type": "stream",
          "text": [
            "2\n",
            "6\n",
            "24\n"
          ]
        }
      ],
      "source": [
        "import operator\n",
        "for item in itertools.accumulate(data, operator.mul):   # running product\n",
        "    print(item)"
      ]
    },
    {
      "cell_type": "code",
      "execution_count": 13,
      "metadata": {},
      "outputs": [
        {
          "name": "stdout",
          "output_type": "stream",
          "text": [
            "0\n",
            "1\n",
            "-2\n"
          ]
        }
      ],
      "source": [
        "# dropwhile: drop items while predicate is true\n",
        "numbers = [-1, 0, 1, -2]\n",
        "for num in itertools.dropwhile(lambda x: x < 0, numbers): # Drop -1, -2 at start\n",
        "    print(num)"
      ]
    },
    {
      "cell_type": "code",
      "execution_count": 14,
      "metadata": {},
      "outputs": [
        {
          "name": "stdout",
          "output_type": "stream",
          "text": [
            "-1\n"
          ]
        }
      ],
      "source": [
        "# takewhile: take items while predicate is true\n",
        "numbers = [-1, 0, 1, -2]\n",
        "for num in itertools.takewhile(lambda x: x < 0, numbers): # Take -1 at start\n",
        "    print(num)"
      ]
    },
    {
      "cell_type": "code",
      "execution_count": 15,
      "metadata": {},
      "outputs": [
        {
          "name": "stdout",
          "output_type": "stream",
          "text": [
            "1 a\n",
            "2 b\n",
            "- c\n"
          ]
        }
      ],
      "source": [
        "# zip_longest: zip with fill value\n",
        "list1 = [1, 2]\n",
        "list2 = ['a', 'b', 'c']\n",
        "for item1, item2 in itertools.zip_longest(list1, list2, fillvalue='-'): # zip, fill missing with '-'\n",
        "    print(item1, item2)"
      ]
    },
    {
      "cell_type": "code",
      "execution_count": 16,
      "metadata": {},
      "outputs": [
        {
          "name": "stdout",
          "output_type": "stream",
          "text": [
            "('A', 1)\n",
            "('A', 2)\n",
            "('B', 1)\n",
            "('B', 2)\n",
            "('C', 1)\n",
            "('C', 2)\n"
          ]
        }
      ],
      "source": [
        "# Combinatoric Iterators\n",
        "# product: Cartesian product\n",
        "categories = ['A', 'B', 'C']\n",
        "values = [1, 2]\n",
        "for combo in itertools.product(categories, values):\n",
        "    print(combo)"
      ]
    },
    {
      "cell_type": "code",
      "execution_count": 17,
      "metadata": {},
      "outputs": [
        {
          "name": "stdout",
          "output_type": "stream",
          "text": [
            "('x', 'y')\n",
            "('x', 'z')\n",
            "('y', 'x')\n",
            "('y', 'z')\n",
            "('z', 'x')\n",
            "('z', 'y')\n"
          ]
        }
      ],
      "source": [
        "# permutations: all possible orderings\n",
        "items = ['x', 'y', 'z']\n",
        "for perm in itertools.permutations(items, 2): # permutations of length 2\n",
        "    print(perm)\n"
      ]
    },
    {
      "cell_type": "code",
      "execution_count": 18,
      "metadata": {},
      "outputs": [
        {
          "name": "stdout",
          "output_type": "stream",
          "text": [
            "('x', 'y')\n",
            "('x', 'z')\n",
            "('y', 'z')\n"
          ]
        }
      ],
      "source": [
        "# combinations: combinations without replacement\n",
        "for combo in itertools.combinations(items, 2): # combinations of length 2\n",
        "    print(combo)"
      ]
    },
    {
      "cell_type": "code",
      "execution_count": null,
      "metadata": {},
      "outputs": [
        {
          "name": "stdout",
          "output_type": "stream",
          "text": [
            "('x', 'x', 'x')\n",
            "('x', 'x', 'y')\n",
            "('x', 'x', 'z')\n",
            "('x', 'y', 'y')\n",
            "('x', 'y', 'z')\n",
            "('x', 'z', 'z')\n",
            "('y', 'y', 'y')\n",
            "('y', 'y', 'z')\n",
            "('y', 'z', 'z')\n",
            "('z', 'z', 'z')\n"
          ]
        }
      ],
      "source": [
        "# combinations_with_replacement: combinations with replacement\n",
        "for combo in itertools.combinations_with_replacement(items, 3): # combinations with replacement\n",
        "    print(combo)"
      ]
    },
    {
      "cell_type": "markdown",
      "metadata": {},
      "source": [
        "### Python Comprehensions"
      ]
    },
    {
      "cell_type": "markdown",
      "metadata": {},
      "source": [
        "Topics\n",
        "* List and set comprehensions\n",
        "* Nested comprehensions"
      ]
    },
    {
      "cell_type": "code",
      "execution_count": 1,
      "metadata": {},
      "outputs": [
        {
          "name": "stdout",
          "output_type": "stream",
          "text": [
            "[1, 4, 9, 16, 25]\n"
          ]
        }
      ],
      "source": [
        "# basic list comprehension\n",
        "numbers = [1, 2, 3, 4, 5]\n",
        "squares = [x**2 for x in numbers]\n",
        "print(squares)"
      ]
    },
    {
      "cell_type": "code",
      "execution_count": 2,
      "metadata": {},
      "outputs": [
        {
          "name": "stdout",
          "output_type": "stream",
          "text": [
            "[4, 16]\n"
          ]
        }
      ],
      "source": [
        "# list comprehension with conditional logic\n",
        "even_squares = [x**2 for x in numbers if x % 2 == 0]\n",
        "print(even_squares)"
      ]
    },
    {
      "cell_type": "code",
      "execution_count": 3,
      "metadata": {},
      "outputs": [
        {
          "name": "stdout",
          "output_type": "stream",
          "text": [
            "['even', 'odd', 'even']\n"
          ]
        }
      ],
      "source": [
        "numbers = list(range(3))\n",
        "even_odd_comp = [\"even\" if num % 2 == 0 else \"odd\" for num in numbers]\n",
        "print(even_odd_comp)"
      ]
    },
    {
      "cell_type": "code",
      "execution_count": null,
      "metadata": {},
      "outputs": [
        {
          "name": "stdout",
          "output_type": "stream",
          "text": [
            "{16, 4}\n"
          ]
        }
      ],
      "source": [
        "# set comprehension\n",
        "numbers = [1, 2, 2, 3, 4, 4, 5]\n",
        "unique_squares_comp = {num**2 for num in numbers if num % 2 == 0}\n",
        "print(unique_squares_comp)"
      ]
    },
    {
      "cell_type": "code",
      "execution_count": 5,
      "metadata": {},
      "outputs": [
        {
          "name": "stdout",
          "output_type": "stream",
          "text": [
            "{'Alice': 5, 'Bob': 3, 'Charlie': 7}\n"
          ]
        }
      ],
      "source": [
        "# dictionary comprehension\n",
        "names = [\"Alice\", \"Bob\", \"Charlie\"]\n",
        "name_lengths_comp = {name: len(name) for name in names}\n",
        "print(name_lengths_comp)"
      ]
    },
    {
      "cell_type": "code",
      "execution_count": 6,
      "metadata": {},
      "outputs": [
        {
          "name": "stdout",
          "output_type": "stream",
          "text": [
            "{1: 'a', 2: 'b', 3: 'c'}\n"
          ]
        }
      ],
      "source": [
        "original_dict = {\"a\": 1, \"b\": 2, \"c\": 3}\n",
        "inverted_dict = {value: key for key, value in original_dict.items()} # inverts keys and values of a dictionary\n",
        "print(inverted_dict)"
      ]
    },
    {
      "cell_type": "code",
      "execution_count": 7,
      "metadata": {},
      "outputs": [
        {
          "name": "stdout",
          "output_type": "stream",
          "text": [
            "328350\n"
          ]
        }
      ],
      "source": [
        "# basic generator\n",
        "squares_gen_expr = (i**2 for i in range(100))       # creates a generator for squares (memory efficient)\n",
        "sum_squares_gen = sum(squares_gen_expr)             # sums the squares using the generator\n",
        "print(sum_squares_gen)"
      ]
    },
    {
      "cell_type": "code",
      "execution_count": null,
      "metadata": {},
      "outputs": [
        {
          "name": "stdout",
          "output_type": "stream",
          "text": [
            "1140\n"
          ]
        }
      ],
      "source": [
        "# generator expression with filtering (sum of even squares efficiently)\n",
        "even_squares_gen = (num**2 for num in range(20) if num % 2 == 0)\n",
        "sum_even_squares = sum(even_squares_gen)            # sums the squares of even numbers using generator\n",
        "print(sum_even_squares)"
      ]
    },
    {
      "cell_type": "markdown",
      "metadata": {},
      "source": [
        "### Object-Oriented Programming"
      ]
    },
    {
      "cell_type": "markdown",
      "metadata": {},
      "source": [
        "Topics:\n",
        "* Classes and objects\n",
        "* Encapsulation\n",
        "* Inheritance\n",
        "* Polymorphism\n",
        "    * Duck typing\n",
        "    * Method overriding\n",
        "* Abstract classes and interfaces"
      ]
    },
    {
      "cell_type": "code",
      "execution_count": 34,
      "metadata": {
        "colab": {
          "base_uri": "https://localhost:8080/"
        },
        "id": "n94n_QTD4quH",
        "outputId": "e4eeca27-1874-43fe-c555-57be691219e5"
      },
      "outputs": [
        {
          "name": "stdout",
          "output_type": "stream",
          "text": [
            "Distance of point1 from origin: 3.605551275463989\n",
            "<DataPoint(7, 4)>\n",
            "<DataPoint(2, 3)>\n"
          ]
        }
      ],
      "source": [
        "class DataPoint():\n",
        "  \"\"\"Represents a data point with attributes and a method\"\"\"\n",
        "  def __init__(self, x, y): # Constructor (special method for object initialization)\n",
        "    self.x = x              # Attribute: x-coordinate\n",
        "    self.y = y              # Attribute: y-coordinate\n",
        "\n",
        "  def __add__(self, other):\n",
        "    return DataPoint(self.x + other.x, self.y + other.y)\n",
        "\n",
        "  def __repr__(self):\n",
        "    return f'<DataPoint({self.x}, {self.y})>'\n",
        "\n",
        "  def distance_from_origin(self):\n",
        "    \"\"\"Calculates the distance from the origin (0, 0)\"\"\"\n",
        "    import math\n",
        "    return math.sqrt(self.x**2 + self.y**2)\n",
        "\n",
        "# create objects (instances) of the DataPoint class\n",
        "point1 = DataPoint(2, 3)\n",
        "point2 = DataPoint(5, 1)\n",
        "\n",
        "# access object attributes and call methods\n",
        "print(f\"Distance of point1 from origin: {point1.distance_from_origin()}\")\n",
        "print(point1 + point2)\n",
        "print(point1)"
      ]
    },
    {
      "cell_type": "markdown",
      "metadata": {},
      "source": [
        "Encapsulation: \n",
        "* In its most fundamental sense encapsulation is the act of defining a class to group an object's data (attributes) and the methods that operate on that data. \n",
        "* Further practices enhance encapsulation:\n",
        "    * **Information Hiding:**\n",
        "        * `_attribute_name` (convention): Signals internal use.\n",
        "        * `__attribute_name` (name mangling): Prevents naming conflicts.\n",
        "    * **Controlled Access:** (Most Pythonic way)\n",
        "        * Achieved primarily through the `@property` decorator. Will be discussed under the 'Decorators' section in Advanced Topics."
      ]
    },
    {
      "cell_type": "code",
      "execution_count": 49,
      "metadata": {},
      "outputs": [
        {
          "name": "stdout",
          "output_type": "stream",
          "text": [
            "Sensor data timestamp: 100\n",
            "Sensor data internal value (via direct access - discouraged): 3.5\n",
            "Sensor data internal value (via getter): 3.5\n"
          ]
        }
      ],
      "source": [
        "# encapsulate private attributes and access methods\n",
        "class SensorData(object):\n",
        "    \"\"\"Represents sensor data with private attributes and access methods\"\"\"\n",
        "    def __init__(self, timestamp, value):\n",
        "        # Type 1: Name Mangling (stronger suggestion of privacy, avoids subclass collisions)\n",
        "        self.__timestamp = timestamp\n",
        "\n",
        "        # Type 2: Convention (signals internal use, relies on developer discipline)\n",
        "        self._value = value\n",
        "\n",
        "    def get_timestamp(self):\n",
        "        \"\"\"Public method to access the name-mangled timestamp attribute\"\"\"\n",
        "        return self.__timestamp\n",
        "\n",
        "    def get_value(self):\n",
        "        \"\"\"Public method to access the conventionally hidden internal value\"\"\"\n",
        "        return self._value\n",
        "\n",
        "# create a SensorData object\n",
        "sensor_data = SensorData(100, 3.5)\n",
        "\n",
        "# accessing the private attribute directly will result in an error\n",
        "# print(sensor_data.__timestamp)    # AttributeError: 'SensorData' object has no attribute '__timestamp'\n",
        "\n",
        "# use the public method to access the timestamp safely\n",
        "timestamp = sensor_data.get_timestamp()\n",
        "print(f\"Sensor data timestamp: {timestamp}\")\n",
        "\n",
        "# accessing the _value directly is possible but discouraged by convention\n",
        "print(f\"Sensor data internal value (via direct access - discouraged): {sensor_data._value}\")\n",
        "\n",
        "# use the public method to access the _value safely (recommended)\n",
        "internal_val = sensor_data.get_value()\n",
        "print(f\"Sensor data internal value (via getter): {internal_val}\")"
      ]
    },
    {
      "cell_type": "code",
      "execution_count": 55,
      "metadata": {
        "colab": {
          "base_uri": "https://localhost:8080/"
        },
        "id": "2wLwSEOc5V_W",
        "outputId": "736d3f2b-f4ee-4356-fc65-30495e8295b7"
      },
      "outputs": [
        {
          "name": "stdout",
          "output_type": "stream",
          "text": [
            "Time series data value: 4.2\n",
            "Time interval for the data: 0.1\n"
          ]
        }
      ],
      "source": [
        "# define a subclass interiting from SensorData\n",
        "class TimeSeriesData(SensorData):\n",
        "  \"\"\"Time series data inherits from SensorData and adds a time series dimension\"\"\"\n",
        "  def __init__(self, timestamp, value, time_interval):\n",
        "    super().__init__(timestamp, value)      # call superclass constructor\n",
        "    self.time_interval = time_interval      # new attribute specific to time series data\n",
        "\n",
        "# create a TimeSeriesData object\n",
        "ts_data = TimeSeriesData(200, 4.2, 0.1)\n",
        "\n",
        "# access inherited attributes and methods from SensorData\n",
        "print(f\"Time series data value: {ts_data.get_value()}\")\n",
        "\n",
        "# access the new attribute specific to TimeSeriesData\n",
        "print(f\"Time interval for the data: {ts_data.time_interval}\")"
      ]
    },
    {
      "cell_type": "code",
      "execution_count": 62,
      "metadata": {
        "colab": {
          "base_uri": "https://localhost:8080/"
        },
        "id": "hZ697Y3I9IYg",
        "outputId": "49e79646-4fb1-459a-8c7f-fdbdc6ad1b93"
      },
      "outputs": [
        {
          "name": "stdout",
          "output_type": "stream",
          "text": [
            "Woof!\n",
            "Meow!\n"
          ]
        }
      ],
      "source": [
        "# use duck typing (polymorphism) to access the same method of different classes\n",
        "class Dog:\n",
        "  def make_sound(self):\n",
        "    print(\"Woof!\")\n",
        "\n",
        "class Cat:\n",
        "  def make_sound(self):\n",
        "    print(\"Meow!\")\n",
        "\n",
        "def make_sound(animal):\n",
        "  \"\"\"Makes an animal sound using polymorphism (duck typing)\"\"\"\n",
        "  # Duck typing: Check if object has the method before calling\n",
        "  if hasattr(animal, \"make_sound\"):\n",
        "    animal.make_sound()\n",
        "\n",
        "# polymorphism in action: regardless of the animal class, the speak method is called\n",
        "dog = Dog()\n",
        "cat = Cat()\n",
        "make_sound(dog)     # Output: Woof!\n",
        "make_sound(cat)     # Output: Meow!"
      ]
    },
    {
      "cell_type": "code",
      "execution_count": 6,
      "metadata": {
        "colab": {
          "base_uri": "https://localhost:8080/"
        },
        "id": "OxZlIsu3Vwdi",
        "outputId": "3618b8ae-e176-40cf-ae48-1c9f35190afb"
      },
      "outputs": [
        {
          "name": "stdout",
          "output_type": "stream",
          "text": [
            "There are many types of birds.\n",
            "Most of the birds can fly but some cannot.\n",
            "There are many types of birds.\n",
            "Sparrows can fly.\n"
          ]
        }
      ],
      "source": [
        "# process of re-implementing a method in the child class is known as Method Overriding\n",
        "class Bird:\n",
        "    def intro(self):\n",
        "        print(\"There are many types of birds.\")\n",
        "\n",
        "    def flight(self):\n",
        "        print(\"Most of the birds can fly but some cannot.\")\n",
        "\n",
        "class sparrow(Bird):\n",
        "    # Method Overriding\n",
        "    def flight(self):\n",
        "        print(\"Sparrows can fly.\")\n",
        "\n",
        "obj_bird = Bird()\n",
        "obj_spr = sparrow()\n",
        "\n",
        "obj_bird.intro()\n",
        "obj_bird.flight()\n",
        "\n",
        "obj_spr.intro()\n",
        "obj_spr.flight()"
      ]
    },
    {
      "cell_type": "code",
      "execution_count": 7,
      "metadata": {
        "id": "Lc9WABsCHmQm"
      },
      "outputs": [
        {
          "name": "stdout",
          "output_type": "stream",
          "text": [
            "Shape instance: <__main__.Shape object at 0x000001BDE777BAC0>\n",
            "Area of square: 25\n",
            "Area of circle: 28.274333882308138\n"
          ]
        }
      ],
      "source": [
        "# define an abstract method in superclass\n",
        "class Shape:\n",
        "  \"\"\"Base class for shapes\"\"\"\n",
        "  def area(self):\n",
        "    raise NotImplementedError(\"Subclasses must implement area()\")  # abstract method\n",
        "\n",
        "# use method overriding (polymorphism) to redefine/override the area method\n",
        "class Square(Shape):\n",
        "  \"\"\"Square subclass inherits from Shape\"\"\"\n",
        "  def __init__(self, side):\n",
        "    self.side = side\n",
        "\n",
        "  def area(self):\n",
        "    \"\"\"Overrides the area method for squares\"\"\"\n",
        "    return self.side * self.side\n",
        "\n",
        "class Circle(Shape):\n",
        "  \"\"\"Circle subclass inherits from Shape\"\"\"\n",
        "  def __init__(self, radius):\n",
        "    self.radius = radius\n",
        "\n",
        "  def area(self):\n",
        "    \"\"\"Overrides the area method for circles\"\"\"\n",
        "    import math\n",
        "    return math.pi * self.radius * self.radius\n",
        "\n",
        "# create objects and call the area method (polymorphism with method overriding)\n",
        "shape = Shape()\n",
        "square = Square(5)\n",
        "circle = Circle(3)\n",
        "\n",
        "print(f\"Shape instance: {shape}\")\n",
        "print(f\"Area of square: {square.area()}\")\n",
        "print(f\"Area of circle: {circle.area()}\")"
      ]
    },
    {
      "cell_type": "code",
      "execution_count": 8,
      "metadata": {},
      "outputs": [],
      "source": [
        "from abc import ABC, abstractmethod\n",
        "\n",
        "class DataProcessor(ABC):\n",
        "    \"\"\"Abstract class for data processing tasks\"\"\"\n",
        "    @abstractmethod\n",
        "    def load_data(self, filepath):\n",
        "        pass\n",
        "\n",
        "    @abstractmethod\n",
        "    def transform_data(self, data):\n",
        "        pass\n",
        "\n",
        "class CSVProcessor(DataProcessor):\n",
        "    \"\"\"Concrete subclass implementing the DataProcessor interface\"\"\"\n",
        "    def load_data(self, filepath):\n",
        "        # ... code to load data from a CSV file\n",
        "        pass\n",
        "\n",
        "    def transform_data(self, data):\n",
        "        # ... code to transform the loaded data\n",
        "        pass\n",
        "\n",
        "# you cannot directly create an instance of an abstract class\n",
        "# data_processor = DataProcessor()   # TypeError: Can't instantiate abstract class DataProcessor with abstract methods load_data, transform_data\n",
        "\n",
        "csv_processor = CSVProcessor()\n",
        "csv_processor.load_data(\"data.csv\")  # valid call on the concrete subclass"
      ]
    },
    {
      "cell_type": "markdown",
      "metadata": {},
      "source": [
        "### Numpy & Linear Algebra"
      ]
    },
    {
      "cell_type": "markdown",
      "metadata": {},
      "source": [
        "Topics:\n",
        "* Indexing and slicing\n",
        "* Array manipulation\n",
        "* Linear Algebra\n",
        "    * Solving linear systems\n",
        "    * Matrix decomposition"
      ]
    },
    {
      "cell_type": "code",
      "execution_count": 1,
      "metadata": {
        "id": "hn4OtoTKxOoh"
      },
      "outputs": [],
      "source": [
        "import numpy as np"
      ]
    },
    {
      "cell_type": "code",
      "execution_count": null,
      "metadata": {
        "id": "EGfN8fRxw5pn"
      },
      "outputs": [],
      "source": [
        "arr = np.array([3, 1, 4, 2, 5]) # create 1D array\n",
        "\n",
        "arr[:]                          # get a copy of array\n",
        "arr[::]                         # get a copy of array\n",
        "\n",
        "arr[::2]                        # get elements at odd indices\n",
        "arr[1::2]                       # get elements at even indices\n",
        "arr[(arr >= 5) & (arr <= 9)]    # get elements between 5 and 9 (inclusive)\n",
        "\n",
        "arr[::-1]                       # reverse 1D array / rows of a 2D array\n",
        "arr[:, ::-1]                    # reverse columns of a 2D array\n",
        "arr[:, [1, 0]]                  # swap first and second columns\n",
        "\n",
        "np.argmax(arr)                  # get index of max\n",
        "np.argmin(arr)                  # get index of min\n",
        "np.argsort(arr)                 # get indices of sorted array\n",
        "np.sort(arr)                    # sort array\n",
        "np.sort(arr, axis=0)            # sort rows\n",
        "\n",
        "np.isnan(arr)                   # check for NaN (returns boolean array)\n",
        "np.isinf(arr)                   # check for Inf (returns boolean array)\n",
        "np.isneginf(arr)                # check for -Inf (returns boolean array)\n",
        "\n",
        "arr[~ np.isnan(arr)]            # drop all NaNs\n",
        "arr[np.isnan(arr)] = 0          # replace NaN with 0\n",
        "\n",
        "condition = arr > 2\n",
        "np.all(condition)               # return True if condition is met for all elements\n",
        "np.any(condition)               # return True if condition is met for any element\n",
        "\n",
        "np.alltrue()                    # check if all elements are true\n",
        "np.anytrue()                    # check if any element is true\n",
        "\n",
        "np.where(condition)[0]          # get the indices where the condition is met\n",
        "np.where(condition, x, arr)     # repalce the element with x where condition is met\n",
        "\n",
        "np.intersect1d(a, b)            # get intersection of a and b\n",
        "np.setdiff1d(a, b)              # remove elements of b from a\n",
        "\n",
        "np.vstack([a, b])               # vertically stack\n",
        "np.hstack([a, b])               # horizontally stack\n",
        "\n",
        "arr.reshape(-1, 1)              # add new dimension to 1D array\n",
        "arr[:, np.newaxis]              # add new dimension to 1D array\n",
        "np.squeeze(arr)                 # remove dimensions of size 1\n",
        "np.isclose(a, b, rtol=1e-10)    # check if a = b (within a set tolerance) for floats!"
      ]
    },
    {
      "cell_type": "code",
      "execution_count": null,
      "metadata": {
        "id": "8AZ0vWr2w7ia"
      },
      "outputs": [],
      "source": [
        "# iterators\n",
        "np.arange(3, dtype=float)                           # create an array of floats from 3 to 0\n",
        "np.linspace(0, 100, 5, dtype=int)                   # create an array of integers from 0 to 100 with 5 elements\n",
        "np.logspace(0, 100, 5, dtype=float)                 # create an array of floats from 0 to 100 with 5 elements (logarithmic scale)\n",
        "\n",
        "# apply function along certain axis\n",
        "np.apply_along_axis(np.max, axis=1, arr=arr)        # get max value in each column\n",
        "np.apply_along_axis(np.mean, axis=0, arr=arr)       # get mean value in each row\n",
        "\n",
        "# count the unique values of an array\n",
        "unique_vals, counts = np.unique(arr, return_counts=True)\n",
        "\n",
        "# genereate random samples\n",
        "np.random.rand(n)                                   # generates n random samples between 0 and 1 (uniform distribution)\n",
        "np.random.randn(n)                                  # generate n random samples from the standard normal distribution\n",
        "\n",
        "np.random.randint(low=1, high=10, size=(row, col))  # generate n random integers between low (inclusive) and high (exclusive)\n",
        "np.random.choice(arr, size=n, replace=True)         # generate n random samples from array with replacement (elements can be chosen multiple times)"
      ]
    },
    {
      "attachments": {
        "image.png": {
          "image/png": "[encoded data removed]"
        }
      },
      "cell_type": "markdown",
      "metadata": {
        "id": "d789vI5VEwXY"
      },
      "source": [
        "**Linear Algebra Recap:**\n",
        " \n",
        ">* Recommended video series to review fundamental concepts:\n",
        ">    * [Essence of Linear Algebra - 3Blue1Brown (YouTube)](https://youtube.com/playlist?list=PLZHQObOWTQDPD3MizzM2xVFitgF8hE_ab&si=p7U6pM9gMrBTwpT8)\n",
        ">    * [A Vision of Linear Algebra - MIT OpenCourseWare (YouTube)](https://youtube.com/playlist?list=PLUl4u3cNGP61iQEFiWLE21EJCxwmWvvek&si=liWj51se2-BjtOdr)  \n",
        " \n",
        " \n",
        "* Determinant could be interpreted as area covered by basis vectors  \n",
        "    * $det(AB) = det(A) \\times det(B)$\n",
        "    * $det(A^{-1}) = \\frac{1}{det(A)}$\n",
        "* Singular matrices are not invertible i.e., $det(A) = 0$\n",
        "* Rank of a matrix shows the degree of singularity\n",
        "    * Could also be interpreted as the number of independent equations (pieces of information) in the system of linear equations\n",
        "* The eigenvectors of a matrix $A$ are those vectors for which multiplication by $A$ results in a vector in the same direction or opposite direction i.e.,  $A \\nu = \\lambda \\nu$\n",
        "* Singular Value Decomposition (SVD) is equivalent to Eigendecomposition for rectangular matrices  \n",
        " \n",
        "![image.png](attachment:image.png) \n",
        "\n",
        " \n",
        "* PCA could be carried out via eigendecomposition of covariance matrix\n",
        " \n",
        "Reference: [Mathematics for Machine Learning and Data Science Specialization - Coursera](https://www.coursera.org/specializations/mathematics-for-machine-learning-and-data-science)"
      ]
    },
    {
      "cell_type": "code",
      "execution_count": null,
      "metadata": {
        "id": "LZPgu227xGOk"
      },
      "outputs": [],
      "source": [
        "np.linalg.matrix_rank(arr)   # get rank of matrix\n",
        "np.linalg.norm(arr)          # get Frobenius norm of matrix (adds the squares of all matrix entries, then takes the square root)\n",
        "np.linalg.det(arr)           # get determinant of matrix\n",
        "np.linalg.inv(arr)           # get inverse of matrix\n",
        "\n",
        "np.linalg.eig(arr)           # get eigenvalues and eigenvectors of matrix\n",
        "np.linalg.svd(arr)           # get singular value decomposition of matrix\n",
        "np.linalg.solve(A, b)        # solve linear system of equations\n",
        "\n",
        "np.matmul(A, B)              # matrix multiplication\n",
        "np.dot(A, B)                 # matrix multiplication\n",
        "A @ B                        # matrix multiplication (syntactic sugar)"
      ]
    },
    {
      "cell_type": "code",
      "execution_count": 2,
      "metadata": {
        "colab": {
          "base_uri": "https://localhost:8080/"
        },
        "id": "TPfOpp11PuiJ",
        "outputId": "e2adf3a3-737c-4bbc-b701-ccb0201d0ad7"
      },
      "outputs": [
        {
          "name": "stdout",
          "output_type": "stream",
          "text": [
            "Solution (x): [-4.   4.5]\n",
            "Solution (x): [-4.   4.5]\n"
          ]
        }
      ],
      "source": [
        "# solve a linear system\n",
        "A = np.array([[1, 2], [3, 4]])\n",
        "b = np.array([5, 6])\n",
        "x = np.linalg.inv(A) @ b\n",
        "print(f\"Solution (x): {x}\")\n",
        "\n",
        "# alternatively\n",
        "sol = np.linalg.solve(A, b)\n",
        "print(f\"Solution (x): {sol}\")"
      ]
    },
    {
      "cell_type": "code",
      "execution_count": 3,
      "metadata": {
        "colab": {
          "base_uri": "https://localhost:8080/"
        },
        "id": "n6-b56BvN7zR",
        "outputId": "6929ca40-5c3f-4ec9-83f5-97079d53a5a6"
      },
      "outputs": [
        {
          "name": "stdout",
          "output_type": "stream",
          "text": [
            "Eigenvalues: [ 3. -1.]\n",
            "Eigenvectors: [[ 0.70710678 -0.70710678]\n",
            " [ 0.70710678  0.70710678]]\n"
          ]
        }
      ],
      "source": [
        "# get the eigenvalues and eigenvectors (Eigendecomposition)\n",
        "matrix = np.array([[1, 2], [2, 1]])\n",
        "eigenvalues, eigenvectors = np.linalg.eig(matrix)\n",
        "print(f\"Eigenvalues: {eigenvalues}\")\n",
        "print(f\"Eigenvectors: {eigenvectors}\")"
      ]
    },
    {
      "cell_type": "code",
      "execution_count": null,
      "metadata": {},
      "outputs": [
        {
          "name": "stdout",
          "output_type": "stream",
          "text": [
            "U: [[ 0.3863177  -0.92236578]\n",
            " [ 0.92236578  0.3863177 ]]\n",
            "S: [9.508032   0.77286964]\n",
            "Vt: [[ 0.42866713  0.56630692  0.7039467 ]\n",
            " [ 0.80596391  0.11238241 -0.58119908]\n",
            " [ 0.40824829 -0.81649658  0.40824829]]\n"
          ]
        }
      ],
      "source": [
        "# Singular Value Decomposition (SVD)\n",
        "matrix = np.array([[1, 2, 3], [4, 5, 6]])\n",
        "U, S, Vt = np.linalg.svd(matrix)\n",
        "print(f\"U: {U}\")    # left singular vectors\n",
        "print(f\"S: {S}\")    # singular values\n",
        "print(f\"Vt: {Vt}\")  # right singular vectors (transposed)"
      ]
    },
    {
      "cell_type": "markdown",
      "metadata": {},
      "source": [
        "### Pandas"
      ]
    },
    {
      "cell_type": "markdown",
      "metadata": {},
      "source": [
        "Topics:\n",
        "* Attributes and methods of `Series` and `DataFrame` objects\n",
        "* Indexing and slicing\n",
        "* Handling missing values and duplicates\n",
        "* `datetime` in `pandas`\n",
        "* Grouping, aggregation, and method-chaining"
      ]
    },
    {
      "cell_type": "code",
      "execution_count": 1,
      "metadata": {
        "colab": {
          "background_save": true
        },
        "id": "-1rqsia70Qol"
      },
      "outputs": [],
      "source": [
        "import pandas as pd"
      ]
    },
    {
      "cell_type": "code",
      "execution_count": 2,
      "metadata": {
        "colab": {
          "base_uri": "https://localhost:8080/"
        },
        "id": "r_bsg4Ma1M4J",
        "outputId": "cd39ae77-8513-4baf-9333-c17cf111fee6"
      },
      "outputs": [
        {
          "name": "stdout",
          "output_type": "stream",
          "text": [
            "0    9\n",
            "1    3\n",
            "dtype: int64 \n",
            "\n",
            "id\n",
            "0    9\n",
            "1    3\n",
            "Name: numbers, dtype: int64\n"
          ]
        }
      ],
      "source": [
        "ser = pd.Series([9, 3])           # create a Series object from a list, np.array, etc.\n",
        "ser.values                        # get the values\n",
        "ser.index                         # get the index\n",
        "ser.dtype                         # get the data type\n",
        "ser.shape                         # get the shape\n",
        "print(ser, '\\n')\n",
        "\n",
        "ser.name = 'numbers'              # set a name\n",
        "ser.index.name = 'id'             # set a name for index\n",
        "print(ser)"
      ]
    },
    {
      "cell_type": "code",
      "execution_count": null,
      "metadata": {
        "id": "JGuepVASBwlt"
      },
      "outputs": [],
      "source": [
        "# numpy indexing, slicing apply to Series\n",
        "ser.unique()                    # get unique elements\n",
        "ser.value_counts()              # count unique elements\n",
        "\n",
        "np.any(ser > 2)                 # check if any element is greater than 2\n",
        "np.all(ser > 2)                 # check if all elements are greater than 2\n",
        "\n",
        "ser.isin(ser2)                  # check if elements is in another Series\n",
        "ser.isin(ser2).any()            # check if any element is in another Series\n",
        "ser.isin(ser2).all()            # check if all elements are in another Series\n",
        "\n",
        "ser[ser.isin(ser2)]             # get elements that are in another Series\n",
        "ser[~ser.isin(ser2)]            # get elements that are not in another Series\n",
        "\n",
        "ser**2\n",
        "ser.map(lambda x: x**2)         # apply a function to each element\n",
        "ser.apply(lambda x: x**2)       # apply a function to each element"
      ]
    },
    {
      "cell_type": "code",
      "execution_count": 3,
      "metadata": {
        "colab": {
          "base_uri": "https://localhost:8080/"
        },
        "id": "UqvMrZZ_0UJ3",
        "outputId": "c6193198-641e-431e-8de2-a3b532355415"
      },
      "outputs": [
        {
          "name": "stdout",
          "output_type": "stream",
          "text": [
            "   A  B\n",
            "0  1  4\n",
            "1  2  5\n",
            "2  3  6 \n",
            "\n",
            "letters  A  B\n",
            "id           \n",
            "0        1  4\n",
            "1        2  5\n",
            "2        3  6\n",
            "matrix\n",
            "<class 'numpy.ndarray'>\n"
          ]
        }
      ],
      "source": [
        "# create a DataFrame from a dictionary\n",
        "df = pd.DataFrame({'A': [1, 2, 3],\n",
        "                   'B': [4, 5, 6]})\n",
        "df.values                       # get the values (numpy.ndarray object)\n",
        "df.index                        # get the index\n",
        "df.columns                      # get the columns\n",
        "df.shape                        # get the shape\n",
        "print(df, '\\n')\n",
        "\n",
        "df.name = 'matrix'              # set a name\n",
        "df.index.name = 'id'            # set a name for index\n",
        "df.columns.name = 'letters'     # set a name for columns\n",
        "print(df)\n",
        "print(df.name)\n",
        "print(type(df.values))"
      ]
    },
    {
      "cell_type": "code",
      "execution_count": null,
      "metadata": {
        "id": "_kP8zs-AMpnp"
      },
      "outputs": [],
      "source": [
        "# retrieve column as a DataFrame object\n",
        "df[['a']]\n",
        "df.loc[:, ['a']]\n",
        "df.iloc[:, [0]]\n",
        "\n",
        "# retrieve column as a Series object\n",
        "df.a\n",
        "df['a']\n",
        "df.loc[:, 'a']\n",
        "df.iloc[:, 1]\n",
        "\n",
        "# slice rows by index and columns by name\n",
        "df.loc[1:3, ['a', 'b']]"
      ]
    },
    {
      "cell_type": "code",
      "execution_count": null,
      "metadata": {
        "id": "Vbaka79O6vlO"
      },
      "outputs": [],
      "source": [
        "df = pd.read_csv('data.csv')    # read a CSV file\n",
        "df = pd.read_json('data.json')  # read a JSON file\n",
        "df = pd.read_html('https://www.example.com')\n",
        "\n",
        "df.to_csv('data.csv')           # write a CSV file\n",
        "df.to_json('data.json')         # write a JSON file\n",
        "\n",
        "pd.concat([df1, df2])           # concatenate DataFrames\n",
        "pd.merge(df1, df2, how='outer') # merge DataFrames with outer join"
      ]
    },
    {
      "cell_type": "code",
      "execution_count": null,
      "metadata": {
        "id": "KOiaOQRCGA1a"
      },
      "outputs": [],
      "source": [
        "df.isnull()                     # check if any element is NaN\n",
        "df.fillna(value)                # fill NaN with value\n",
        "df.dropna(axis=0)               # drop rows with NaN\n",
        "df.drop_duplicates()            # drop duplicates\n",
        "df.drop(columns=['A', 'B'])     # drop columns\n",
        "\n",
        "df.apply(lambda x: x**2)        # apply a function to each element\n",
        "df.apply(lambda x: x/2, axis=0) # apply a function to each column\n",
        "df.groupby('column')            # group by column\n",
        "df.groupby(['A', 'B'])          # group by multiple columns\n",
        "df.sort_values(by='column')     # sort by column\n",
        "df.sort_values(by=['A', 'B'])   # sort by multiple columns"
      ]
    },
    {
      "cell_type": "code",
      "execution_count": null,
      "metadata": {
        "id": "y_LagGhOGl9M"
      },
      "outputs": [],
      "source": [
        "df.idxmax()                                     # get the index for the maximum value in each column\n",
        "df.reset_index(drop=True)                       # reset index\n",
        "df.insert(index, 'name', col)                   # insert a new column at specific position\n",
        "\n",
        "df.rename(columns={'A': 'a', 'B': 'b'})         # rename columns\n",
        "df.rename(index={0: 'a', 1: 'b'})               # rename index\n",
        "\n",
        "df['column'].astype('int')                      # cast one column to different dtypes\n",
        "df.astype({'A': 'int', 'B': 'float'})           # cast multiple columns to different dtypes\n",
        "df.select_dtypes(include=['int', 'float'])      # get specific data types\n",
        "df.select_dtypes(exclude=['int', 'float'])      # get all data types except specific data types\n",
        "\n",
        "df['color'].isin(['red', 'blue'])               # check if columns contains certain values\n",
        "df['column'].nlargest(n)                        # get the n largest values in a column\n",
        "df['column'].nsmallest(n)                       # get the n smallest values in a column\n",
        "\n",
        "df.loc[('index1', 'index2'), 'column']          # access specific location in MultiIndex DataFrame\n",
        "df.index.get_level_values('index1')             # access specific index level in MultiIndex DataFrame\n",
        "df[df.index.get_level_values('index1') == 'A']  # filter rows by index level\n",
        "\n",
        "pd.concat([df.iloc[:index], single_row_df, df.iloc[index:]]).reset_index(drop=True)    # insert a new row at specific position\n",
        "df[['col1', 'col2', ...]] = df['comma_separated_str'].str.split(', ', expand=True)     # split a comma-separated string into multiple columns\n",
        "df['comma_separated_str'] = df[['col1', 'col2', ...]].agg(', '.join, axis=1)           # join multipe columns into a single comma-separated column"
      ]
    },
    {
      "cell_type": "code",
      "execution_count": 4,
      "metadata": {
        "colab": {
          "base_uri": "https://localhost:8080/"
        },
        "id": "YX907yz4NTML",
        "outputId": "74f8c913-2f6a-49f8-85db-50379f7c2619"
      },
      "outputs": [
        {
          "name": "stdout",
          "output_type": "stream",
          "text": [
            "[datetime.date(2021, 9, 1), datetime.date(2021, 9, 2), datetime.date(2021, 9, 3)]\n"
          ]
        }
      ],
      "source": [
        "import datetime\n",
        "\n",
        "date = datetime.date(2021, 9, 1) # create a datetime object\n",
        "date.day                         # get the day\n",
        "date.month                       # get the month\n",
        "date.year                        # get the year\n",
        "date.weekday()                   # get the weekday\n",
        "\n",
        "# create date range\n",
        "dates_list = [date + datetime.timedelta(day) for day in range(3)]\n",
        "print(dates_list)"
      ]
    },
    {
      "cell_type": "code",
      "execution_count": 5,
      "metadata": {
        "colab": {
          "base_uri": "https://localhost:8080/"
        },
        "id": "wm8afBgAQCnv",
        "outputId": "fbfef543-acb7-4282-ecd2-d38d7d99f812"
      },
      "outputs": [
        {
          "name": "stdout",
          "output_type": "stream",
          "text": [
            "DatetimeIndex(['2021-09-01', '2021-09-02', '2021-09-03'], dtype='datetime64[ns]', freq='D') \n",
            "\n"
          ]
        },
        {
          "data": {
            "text/plain": [
              "2021-09-01    Wednesday\n",
              "2021-09-02     Thursday\n",
              "2021-09-03       Friday\n",
              "Freq: D, dtype: object"
            ]
          },
          "execution_count": 5,
          "metadata": {},
          "output_type": "execute_result"
        }
      ],
      "source": [
        "# create date range with pandas\n",
        "dates_df = pd.date_range(start='2021-9-1', end='2021-9-3', freq='D')\n",
        "print(dates_df, '\\n')\n",
        "\n",
        "dates_df.day                       # get the days\n",
        "dates_df.month                     # get the months\n",
        "dates_df.year                      # get the years\n",
        "dates_df.weekday                   # get the weekdays\n",
        "\n",
        "dates_ser = dates_df.to_series()   # convert to a Series object\n",
        "dates_ser.dt.day                   # get the days\n",
        "dates_ser.dt.month                 # get the months\n",
        "dates_ser.dt.year                  # get the years\n",
        "dates_ser.dt.weekday               # get the weekdays\n",
        "dates_ser.dt.day_name()            # get the weekdays name"
      ]
    },
    {
      "cell_type": "code",
      "execution_count": 2,
      "metadata": {
        "colab": {
          "background_save": true
        },
        "id": "ooSmqu_u-hNU",
        "outputId": "1abf127d-f0fb-4db5-e3b4-58920b2cc760"
      },
      "outputs": [
        {
          "data": {
            "text/html": [
              "<div>\n",
              "<style scoped>\n",
              "    .dataframe tbody tr th:only-of-type {\n",
              "        vertical-align: middle;\n",
              "    }\n",
              "\n",
              "    .dataframe tbody tr th {\n",
              "        vertical-align: top;\n",
              "    }\n",
              "\n",
              "    .dataframe thead th {\n",
              "        text-align: right;\n",
              "    }\n",
              "</style>\n",
              "<table border=\"1\" class=\"dataframe\">\n",
              "  <thead>\n",
              "    <tr style=\"text-align: right;\">\n",
              "      <th></th>\n",
              "      <th>Manufacturer</th>\n",
              "      <th>Model</th>\n",
              "      <th>Type</th>\n",
              "      <th>Min.Price</th>\n",
              "      <th>Price</th>\n",
              "      <th>Max.Price</th>\n",
              "      <th>MPG.city</th>\n",
              "      <th>MPG.highway</th>\n",
              "      <th>AirBags</th>\n",
              "      <th>DriveTrain</th>\n",
              "    </tr>\n",
              "  </thead>\n",
              "  <tbody>\n",
              "    <tr>\n",
              "      <th>0</th>\n",
              "      <td>Acura</td>\n",
              "      <td>Integra</td>\n",
              "      <td>Small</td>\n",
              "      <td>12.9</td>\n",
              "      <td>15.9</td>\n",
              "      <td>18.8</td>\n",
              "      <td>25.0</td>\n",
              "      <td>31.0</td>\n",
              "      <td>None</td>\n",
              "      <td>Front</td>\n",
              "    </tr>\n",
              "    <tr>\n",
              "      <th>1</th>\n",
              "      <td>NaN</td>\n",
              "      <td>Legend</td>\n",
              "      <td>Midsize</td>\n",
              "      <td>29.2</td>\n",
              "      <td>33.9</td>\n",
              "      <td>38.7</td>\n",
              "      <td>18.0</td>\n",
              "      <td>25.0</td>\n",
              "      <td>Driver &amp; Passenger</td>\n",
              "      <td>Front</td>\n",
              "    </tr>\n",
              "    <tr>\n",
              "      <th>2</th>\n",
              "      <td>Audi</td>\n",
              "      <td>90</td>\n",
              "      <td>Compact</td>\n",
              "      <td>25.9</td>\n",
              "      <td>29.1</td>\n",
              "      <td>32.3</td>\n",
              "      <td>20.0</td>\n",
              "      <td>26.0</td>\n",
              "      <td>Driver only</td>\n",
              "      <td>Front</td>\n",
              "    </tr>\n",
              "    <tr>\n",
              "      <th>3</th>\n",
              "      <td>Audi</td>\n",
              "      <td>100</td>\n",
              "      <td>Midsize</td>\n",
              "      <td>NaN</td>\n",
              "      <td>37.7</td>\n",
              "      <td>44.6</td>\n",
              "      <td>19.0</td>\n",
              "      <td>26.0</td>\n",
              "      <td>Driver &amp; Passenger</td>\n",
              "      <td>NaN</td>\n",
              "    </tr>\n",
              "    <tr>\n",
              "      <th>4</th>\n",
              "      <td>BMW</td>\n",
              "      <td>535i</td>\n",
              "      <td>Midsize</td>\n",
              "      <td>NaN</td>\n",
              "      <td>30.0</td>\n",
              "      <td>NaN</td>\n",
              "      <td>22.0</td>\n",
              "      <td>30.0</td>\n",
              "      <td>NaN</td>\n",
              "      <td>Rear</td>\n",
              "    </tr>\n",
              "    <tr>\n",
              "      <th>5</th>\n",
              "      <td>Buick</td>\n",
              "      <td>Century</td>\n",
              "      <td>Midsize</td>\n",
              "      <td>14.2</td>\n",
              "      <td>15.7</td>\n",
              "      <td>17.3</td>\n",
              "      <td>22.0</td>\n",
              "      <td>31.0</td>\n",
              "      <td>Driver only</td>\n",
              "      <td>NaN</td>\n",
              "    </tr>\n",
              "    <tr>\n",
              "      <th>6</th>\n",
              "      <td>Buick</td>\n",
              "      <td>LeSabre</td>\n",
              "      <td>Large</td>\n",
              "      <td>19.9</td>\n",
              "      <td>20.8</td>\n",
              "      <td>NaN</td>\n",
              "      <td>19.0</td>\n",
              "      <td>28.0</td>\n",
              "      <td>Driver only</td>\n",
              "      <td>Front</td>\n",
              "    </tr>\n",
              "    <tr>\n",
              "      <th>7</th>\n",
              "      <td>Buick</td>\n",
              "      <td>Roadmaster</td>\n",
              "      <td>Large</td>\n",
              "      <td>22.6</td>\n",
              "      <td>23.7</td>\n",
              "      <td>24.9</td>\n",
              "      <td>16.0</td>\n",
              "      <td>25.0</td>\n",
              "      <td>Driver only</td>\n",
              "      <td>Rear</td>\n",
              "    </tr>\n",
              "    <tr>\n",
              "      <th>8</th>\n",
              "      <td>Buick</td>\n",
              "      <td>Riviera</td>\n",
              "      <td>Midsize</td>\n",
              "      <td>26.3</td>\n",
              "      <td>26.3</td>\n",
              "      <td>26.3</td>\n",
              "      <td>19.0</td>\n",
              "      <td>27.0</td>\n",
              "      <td>Driver only</td>\n",
              "      <td>Front</td>\n",
              "    </tr>\n",
              "    <tr>\n",
              "      <th>9</th>\n",
              "      <td>Cadillac</td>\n",
              "      <td>DeVille</td>\n",
              "      <td>Large</td>\n",
              "      <td>33.0</td>\n",
              "      <td>34.7</td>\n",
              "      <td>36.3</td>\n",
              "      <td>16.0</td>\n",
              "      <td>25.0</td>\n",
              "      <td>Driver only</td>\n",
              "      <td>Front</td>\n",
              "    </tr>\n",
              "  </tbody>\n",
              "</table>\n",
              "</div>"
            ],
            "text/plain": [
              "  Manufacturer       Model     Type  Min.Price  Price  Max.Price  MPG.city  \\\n",
              "0        Acura     Integra    Small       12.9   15.9       18.8      25.0   \n",
              "1          NaN      Legend  Midsize       29.2   33.9       38.7      18.0   \n",
              "2         Audi          90  Compact       25.9   29.1       32.3      20.0   \n",
              "3         Audi         100  Midsize        NaN   37.7       44.6      19.0   \n",
              "4          BMW        535i  Midsize        NaN   30.0        NaN      22.0   \n",
              "5        Buick     Century  Midsize       14.2   15.7       17.3      22.0   \n",
              "6        Buick     LeSabre    Large       19.9   20.8        NaN      19.0   \n",
              "7        Buick  Roadmaster    Large       22.6   23.7       24.9      16.0   \n",
              "8        Buick     Riviera  Midsize       26.3   26.3       26.3      19.0   \n",
              "9     Cadillac     DeVille    Large       33.0   34.7       36.3      16.0   \n",
              "\n",
              "   MPG.highway             AirBags DriveTrain  \n",
              "0         31.0                None      Front  \n",
              "1         25.0  Driver & Passenger      Front  \n",
              "2         26.0         Driver only      Front  \n",
              "3         26.0  Driver & Passenger        NaN  \n",
              "4         30.0                 NaN       Rear  \n",
              "5         31.0         Driver only        NaN  \n",
              "6         28.0         Driver only      Front  \n",
              "7         25.0         Driver only       Rear  \n",
              "8         27.0         Driver only      Front  \n",
              "9         25.0         Driver only      Front  "
            ]
          },
          "execution_count": 2,
          "metadata": {},
          "output_type": "execute_result"
        }
      ],
      "source": [
        "cars = pd.read_csv('https://raw.githubusercontent.com/selva86/datasets/master/Cars93_miss.csv')\n",
        "df = cars.iloc[:10,:10]\n",
        "df"
      ]
    },
    {
      "cell_type": "code",
      "execution_count": 6,
      "metadata": {
        "colab": {
          "base_uri": "https://localhost:8080/"
        },
        "id": "t56zDQx-M_ov",
        "outputId": "859a5ef4-039e-4042-882f-29baaeeccc10"
      },
      "outputs": [
        {
          "data": {
            "text/plain": [
              "Manufacturer     True\n",
              "Model           False\n",
              "Type            False\n",
              "Min.Price        True\n",
              "Price           False\n",
              "Max.Price        True\n",
              "MPG.city        False\n",
              "MPG.highway     False\n",
              "AirBags          True\n",
              "DriveTrain       True\n",
              "dtype: bool"
            ]
          },
          "execution_count": 6,
          "metadata": {},
          "output_type": "execute_result"
        }
      ],
      "source": [
        "# use method chaining\n",
        "df.isnull().any()"
      ]
    },
    {
      "cell_type": "code",
      "execution_count": 7,
      "metadata": {
        "colab": {
          "base_uri": "https://localhost:8080/",
          "height": 363
        },
        "id": "3phuIT4TTSga",
        "outputId": "2094db9e-b375-4e95-abea-f91b2488e134"
      },
      "outputs": [
        {
          "data": {
            "text/html": [
              "<div>\n",
              "<style scoped>\n",
              "    .dataframe tbody tr th:only-of-type {\n",
              "        vertical-align: middle;\n",
              "    }\n",
              "\n",
              "    .dataframe tbody tr th {\n",
              "        vertical-align: top;\n",
              "    }\n",
              "\n",
              "    .dataframe thead th {\n",
              "        text-align: right;\n",
              "    }\n",
              "</style>\n",
              "<table border=\"1\" class=\"dataframe\">\n",
              "  <thead>\n",
              "    <tr style=\"text-align: right;\">\n",
              "      <th></th>\n",
              "      <th>Min.Price</th>\n",
              "      <th>Max.Price</th>\n",
              "    </tr>\n",
              "  </thead>\n",
              "  <tbody>\n",
              "    <tr>\n",
              "      <th>0</th>\n",
              "      <td>12.9</td>\n",
              "      <td>18.8</td>\n",
              "    </tr>\n",
              "    <tr>\n",
              "      <th>1</th>\n",
              "      <td>29.2</td>\n",
              "      <td>38.7</td>\n",
              "    </tr>\n",
              "    <tr>\n",
              "      <th>2</th>\n",
              "      <td>25.9</td>\n",
              "      <td>32.3</td>\n",
              "    </tr>\n",
              "    <tr>\n",
              "      <th>3</th>\n",
              "      <td>23.0</td>\n",
              "      <td>44.6</td>\n",
              "    </tr>\n",
              "    <tr>\n",
              "      <th>4</th>\n",
              "      <td>23.0</td>\n",
              "      <td>29.9</td>\n",
              "    </tr>\n",
              "    <tr>\n",
              "      <th>5</th>\n",
              "      <td>14.2</td>\n",
              "      <td>17.3</td>\n",
              "    </tr>\n",
              "    <tr>\n",
              "      <th>6</th>\n",
              "      <td>19.9</td>\n",
              "      <td>29.9</td>\n",
              "    </tr>\n",
              "    <tr>\n",
              "      <th>7</th>\n",
              "      <td>22.6</td>\n",
              "      <td>24.9</td>\n",
              "    </tr>\n",
              "    <tr>\n",
              "      <th>8</th>\n",
              "      <td>26.3</td>\n",
              "      <td>26.3</td>\n",
              "    </tr>\n",
              "    <tr>\n",
              "      <th>9</th>\n",
              "      <td>33.0</td>\n",
              "      <td>36.3</td>\n",
              "    </tr>\n",
              "  </tbody>\n",
              "</table>\n",
              "</div>"
            ],
            "text/plain": [
              "   Min.Price  Max.Price\n",
              "0       12.9       18.8\n",
              "1       29.2       38.7\n",
              "2       25.9       32.3\n",
              "3       23.0       44.6\n",
              "4       23.0       29.9\n",
              "5       14.2       17.3\n",
              "6       19.9       29.9\n",
              "7       22.6       24.9\n",
              "8       26.3       26.3\n",
              "9       33.0       36.3"
            ]
          },
          "execution_count": 7,
          "metadata": {},
          "output_type": "execute_result"
        }
      ],
      "source": [
        "# fill missing values with the mean\n",
        "df[['Min.Price', 'Max.Price']].apply(lambda col: col.fillna(col.mean()))"
      ]
    },
    {
      "cell_type": "code",
      "execution_count": 8,
      "metadata": {
        "colab": {
          "base_uri": "https://localhost:8080/"
        },
        "id": "af_Vn2A70Ofo",
        "outputId": "6cd92af6-39d2-4f21-d0eb-f279fb822f2c"
      },
      "outputs": [
        {
          "data": {
            "text/plain": [
              "37.7"
            ]
          },
          "execution_count": 8,
          "metadata": {},
          "output_type": "execute_result"
        }
      ],
      "source": [
        "# find max Price\n",
        "df['Price'].loc[df['Price'].idxmax()]"
      ]
    },
    {
      "cell_type": "code",
      "execution_count": 11,
      "metadata": {
        "id": "kxJ2n9AmSYp3"
      },
      "outputs": [
        {
          "data": {
            "text/html": [
              "<div>\n",
              "<style scoped>\n",
              "    .dataframe tbody tr th:only-of-type {\n",
              "        vertical-align: middle;\n",
              "    }\n",
              "\n",
              "    .dataframe tbody tr th {\n",
              "        vertical-align: top;\n",
              "    }\n",
              "\n",
              "    .dataframe thead th {\n",
              "        text-align: right;\n",
              "    }\n",
              "</style>\n",
              "<table border=\"1\" class=\"dataframe\">\n",
              "  <thead>\n",
              "    <tr style=\"text-align: right;\">\n",
              "      <th></th>\n",
              "      <th></th>\n",
              "      <th>Manufacturer</th>\n",
              "      <th>Model</th>\n",
              "      <th>Type</th>\n",
              "      <th>Min.Price</th>\n",
              "      <th>Price</th>\n",
              "      <th>Max.Price</th>\n",
              "      <th>MPG.city</th>\n",
              "      <th>MPG.highway</th>\n",
              "      <th>AirBags</th>\n",
              "      <th>DriveTrain</th>\n",
              "    </tr>\n",
              "    <tr>\n",
              "      <th>Manufacturer</th>\n",
              "      <th></th>\n",
              "      <th></th>\n",
              "      <th></th>\n",
              "      <th></th>\n",
              "      <th></th>\n",
              "      <th></th>\n",
              "      <th></th>\n",
              "      <th></th>\n",
              "      <th></th>\n",
              "      <th></th>\n",
              "      <th></th>\n",
              "    </tr>\n",
              "  </thead>\n",
              "  <tbody>\n",
              "    <tr>\n",
              "      <th>Acura</th>\n",
              "      <th>0</th>\n",
              "      <td>Acura</td>\n",
              "      <td>Integra</td>\n",
              "      <td>Small</td>\n",
              "      <td>12.9</td>\n",
              "      <td>15.9</td>\n",
              "      <td>18.8</td>\n",
              "      <td>25.0</td>\n",
              "      <td>31.0</td>\n",
              "      <td>None</td>\n",
              "      <td>Front</td>\n",
              "    </tr>\n",
              "    <tr>\n",
              "      <th rowspan=\"2\" valign=\"top\">Audi</th>\n",
              "      <th>3</th>\n",
              "      <td>Audi</td>\n",
              "      <td>100</td>\n",
              "      <td>Midsize</td>\n",
              "      <td>NaN</td>\n",
              "      <td>37.7</td>\n",
              "      <td>44.6</td>\n",
              "      <td>19.0</td>\n",
              "      <td>26.0</td>\n",
              "      <td>Driver &amp; Passenger</td>\n",
              "      <td>NaN</td>\n",
              "    </tr>\n",
              "    <tr>\n",
              "      <th>2</th>\n",
              "      <td>Audi</td>\n",
              "      <td>90</td>\n",
              "      <td>Compact</td>\n",
              "      <td>25.9</td>\n",
              "      <td>29.1</td>\n",
              "      <td>32.3</td>\n",
              "      <td>20.0</td>\n",
              "      <td>26.0</td>\n",
              "      <td>Driver only</td>\n",
              "      <td>Front</td>\n",
              "    </tr>\n",
              "    <tr>\n",
              "      <th>BMW</th>\n",
              "      <th>4</th>\n",
              "      <td>BMW</td>\n",
              "      <td>535i</td>\n",
              "      <td>Midsize</td>\n",
              "      <td>NaN</td>\n",
              "      <td>30.0</td>\n",
              "      <td>NaN</td>\n",
              "      <td>22.0</td>\n",
              "      <td>30.0</td>\n",
              "      <td>NaN</td>\n",
              "      <td>Rear</td>\n",
              "    </tr>\n",
              "    <tr>\n",
              "      <th rowspan=\"4\" valign=\"top\">Buick</th>\n",
              "      <th>8</th>\n",
              "      <td>Buick</td>\n",
              "      <td>Riviera</td>\n",
              "      <td>Midsize</td>\n",
              "      <td>26.3</td>\n",
              "      <td>26.3</td>\n",
              "      <td>26.3</td>\n",
              "      <td>19.0</td>\n",
              "      <td>27.0</td>\n",
              "      <td>Driver only</td>\n",
              "      <td>Front</td>\n",
              "    </tr>\n",
              "    <tr>\n",
              "      <th>7</th>\n",
              "      <td>Buick</td>\n",
              "      <td>Roadmaster</td>\n",
              "      <td>Large</td>\n",
              "      <td>22.6</td>\n",
              "      <td>23.7</td>\n",
              "      <td>24.9</td>\n",
              "      <td>16.0</td>\n",
              "      <td>25.0</td>\n",
              "      <td>Driver only</td>\n",
              "      <td>Rear</td>\n",
              "    </tr>\n",
              "    <tr>\n",
              "      <th>6</th>\n",
              "      <td>Buick</td>\n",
              "      <td>LeSabre</td>\n",
              "      <td>Large</td>\n",
              "      <td>19.9</td>\n",
              "      <td>20.8</td>\n",
              "      <td>NaN</td>\n",
              "      <td>19.0</td>\n",
              "      <td>28.0</td>\n",
              "      <td>Driver only</td>\n",
              "      <td>Front</td>\n",
              "    </tr>\n",
              "    <tr>\n",
              "      <th>5</th>\n",
              "      <td>Buick</td>\n",
              "      <td>Century</td>\n",
              "      <td>Midsize</td>\n",
              "      <td>14.2</td>\n",
              "      <td>15.7</td>\n",
              "      <td>17.3</td>\n",
              "      <td>22.0</td>\n",
              "      <td>31.0</td>\n",
              "      <td>Driver only</td>\n",
              "      <td>NaN</td>\n",
              "    </tr>\n",
              "    <tr>\n",
              "      <th>Cadillac</th>\n",
              "      <th>9</th>\n",
              "      <td>Cadillac</td>\n",
              "      <td>DeVille</td>\n",
              "      <td>Large</td>\n",
              "      <td>33.0</td>\n",
              "      <td>34.7</td>\n",
              "      <td>36.3</td>\n",
              "      <td>16.0</td>\n",
              "      <td>25.0</td>\n",
              "      <td>Driver only</td>\n",
              "      <td>Front</td>\n",
              "    </tr>\n",
              "  </tbody>\n",
              "</table>\n",
              "</div>"
            ],
            "text/plain": [
              "               Manufacturer       Model     Type  Min.Price  Price  Max.Price  \\\n",
              "Manufacturer                                                                    \n",
              "Acura        0        Acura     Integra    Small       12.9   15.9       18.8   \n",
              "Audi         3         Audi         100  Midsize        NaN   37.7       44.6   \n",
              "             2         Audi          90  Compact       25.9   29.1       32.3   \n",
              "BMW          4          BMW        535i  Midsize        NaN   30.0        NaN   \n",
              "Buick        8        Buick     Riviera  Midsize       26.3   26.3       26.3   \n",
              "             7        Buick  Roadmaster    Large       22.6   23.7       24.9   \n",
              "             6        Buick     LeSabre    Large       19.9   20.8        NaN   \n",
              "             5        Buick     Century  Midsize       14.2   15.7       17.3   \n",
              "Cadillac     9     Cadillac     DeVille    Large       33.0   34.7       36.3   \n",
              "\n",
              "                MPG.city  MPG.highway             AirBags DriveTrain  \n",
              "Manufacturer                                                          \n",
              "Acura        0      25.0         31.0                None      Front  \n",
              "Audi         3      19.0         26.0  Driver & Passenger        NaN  \n",
              "             2      20.0         26.0         Driver only      Front  \n",
              "BMW          4      22.0         30.0                 NaN       Rear  \n",
              "Buick        8      19.0         27.0         Driver only      Front  \n",
              "             7      16.0         25.0         Driver only       Rear  \n",
              "             6      19.0         28.0         Driver only      Front  \n",
              "             5      22.0         31.0         Driver only        NaN  \n",
              "Cadillac     9      16.0         25.0         Driver only      Front  "
            ]
          },
          "execution_count": 11,
          "metadata": {},
          "output_type": "execute_result"
        }
      ],
      "source": [
        "# group and sort based on columns e.g., price\n",
        "grouped = df.groupby(by='Manufacturer').apply(lambda group: group.sort_values(by='Price', ascending=False))\n",
        "grouped"
      ]
    },
    {
      "cell_type": "code",
      "execution_count": 10,
      "metadata": {},
      "outputs": [
        {
          "data": {
            "text/plain": [
              "'535i'"
            ]
          },
          "execution_count": 10,
          "metadata": {},
          "output_type": "execute_result"
        }
      ],
      "source": [
        "grouped.loc[('BMW', 4), 'Model']"
      ]
    },
    {
      "cell_type": "code",
      "execution_count": 12,
      "metadata": {
        "colab": {
          "base_uri": "https://localhost:8080/",
          "height": 143
        },
        "id": "qFm40gpHSNqF",
        "outputId": "1ddf0943-3488-4201-9161-7c923df35f25"
      },
      "outputs": [
        {
          "data": {
            "text/html": [
              "<div>\n",
              "<style scoped>\n",
              "    .dataframe tbody tr th:only-of-type {\n",
              "        vertical-align: middle;\n",
              "    }\n",
              "\n",
              "    .dataframe tbody tr th {\n",
              "        vertical-align: top;\n",
              "    }\n",
              "\n",
              "    .dataframe thead th {\n",
              "        text-align: right;\n",
              "    }\n",
              "</style>\n",
              "<table border=\"1\" class=\"dataframe\">\n",
              "  <thead>\n",
              "    <tr style=\"text-align: right;\">\n",
              "      <th></th>\n",
              "      <th></th>\n",
              "      <th>Manufacturer</th>\n",
              "      <th>Model</th>\n",
              "      <th>Type</th>\n",
              "      <th>Min.Price</th>\n",
              "      <th>Price</th>\n",
              "      <th>Max.Price</th>\n",
              "      <th>MPG.city</th>\n",
              "      <th>MPG.highway</th>\n",
              "      <th>AirBags</th>\n",
              "      <th>DriveTrain</th>\n",
              "    </tr>\n",
              "    <tr>\n",
              "      <th>Manufacturer</th>\n",
              "      <th></th>\n",
              "      <th></th>\n",
              "      <th></th>\n",
              "      <th></th>\n",
              "      <th></th>\n",
              "      <th></th>\n",
              "      <th></th>\n",
              "      <th></th>\n",
              "      <th></th>\n",
              "      <th></th>\n",
              "      <th></th>\n",
              "    </tr>\n",
              "  </thead>\n",
              "  <tbody>\n",
              "    <tr>\n",
              "      <th rowspan=\"2\" valign=\"top\">Audi</th>\n",
              "      <th>3</th>\n",
              "      <td>Audi</td>\n",
              "      <td>100</td>\n",
              "      <td>Midsize</td>\n",
              "      <td>NaN</td>\n",
              "      <td>37.7</td>\n",
              "      <td>44.6</td>\n",
              "      <td>19.0</td>\n",
              "      <td>26.0</td>\n",
              "      <td>Driver &amp; Passenger</td>\n",
              "      <td>NaN</td>\n",
              "    </tr>\n",
              "    <tr>\n",
              "      <th>2</th>\n",
              "      <td>Audi</td>\n",
              "      <td>90</td>\n",
              "      <td>Compact</td>\n",
              "      <td>25.9</td>\n",
              "      <td>29.1</td>\n",
              "      <td>32.3</td>\n",
              "      <td>20.0</td>\n",
              "      <td>26.0</td>\n",
              "      <td>Driver only</td>\n",
              "      <td>Front</td>\n",
              "    </tr>\n",
              "  </tbody>\n",
              "</table>\n",
              "</div>"
            ],
            "text/plain": [
              "               Manufacturer Model     Type  Min.Price  Price  Max.Price  \\\n",
              "Manufacturer                                                              \n",
              "Audi         3         Audi   100  Midsize        NaN   37.7       44.6   \n",
              "             2         Audi    90  Compact       25.9   29.1       32.3   \n",
              "\n",
              "                MPG.city  MPG.highway             AirBags DriveTrain  \n",
              "Manufacturer                                                          \n",
              "Audi         3      19.0         26.0  Driver & Passenger        NaN  \n",
              "             2      20.0         26.0         Driver only      Front  "
            ]
          },
          "execution_count": 12,
          "metadata": {},
          "output_type": "execute_result"
        }
      ],
      "source": [
        "grouped[grouped.index.get_level_values('Manufacturer') == 'Audi']"
      ]
    },
    {
      "cell_type": "code",
      "execution_count": null,
      "metadata": {},
      "outputs": [
        {
          "data": {
            "text/html": [
              "<div>\n",
              "<style scoped>\n",
              "    .dataframe tbody tr th:only-of-type {\n",
              "        vertical-align: middle;\n",
              "    }\n",
              "\n",
              "    .dataframe tbody tr th {\n",
              "        vertical-align: top;\n",
              "    }\n",
              "\n",
              "    .dataframe thead th {\n",
              "        text-align: right;\n",
              "    }\n",
              "</style>\n",
              "<table border=\"1\" class=\"dataframe\">\n",
              "  <thead>\n",
              "    <tr style=\"text-align: right;\">\n",
              "      <th></th>\n",
              "      <th>min</th>\n",
              "      <th>max</th>\n",
              "    </tr>\n",
              "    <tr>\n",
              "      <th>Manufacturer</th>\n",
              "      <th></th>\n",
              "      <th></th>\n",
              "    </tr>\n",
              "  </thead>\n",
              "  <tbody>\n",
              "    <tr>\n",
              "      <th>Acura</th>\n",
              "      <td>15.9</td>\n",
              "      <td>15.9</td>\n",
              "    </tr>\n",
              "    <tr>\n",
              "      <th>Audi</th>\n",
              "      <td>29.1</td>\n",
              "      <td>37.7</td>\n",
              "    </tr>\n",
              "    <tr>\n",
              "      <th>BMW</th>\n",
              "      <td>30.0</td>\n",
              "      <td>30.0</td>\n",
              "    </tr>\n",
              "    <tr>\n",
              "      <th>Buick</th>\n",
              "      <td>15.7</td>\n",
              "      <td>26.3</td>\n",
              "    </tr>\n",
              "    <tr>\n",
              "      <th>Cadillac</th>\n",
              "      <td>34.7</td>\n",
              "      <td>34.7</td>\n",
              "    </tr>\n",
              "  </tbody>\n",
              "</table>\n",
              "</div>"
            ],
            "text/plain": [
              "               min   max\n",
              "Manufacturer            \n",
              "Acura         15.9  15.9\n",
              "Audi          29.1  37.7\n",
              "BMW           30.0  30.0\n",
              "Buick         15.7  26.3\n",
              "Cadillac      34.7  34.7"
            ]
          },
          "execution_count": 13,
          "metadata": {},
          "output_type": "execute_result"
        }
      ],
      "source": [
        "# group and apply aggregate functions\n",
        "df.groupby('Manufacturer').Price.agg(['min', 'max'])"
      ]
    },
    {
      "cell_type": "markdown",
      "metadata": {},
      "source": [
        "## $3.$ Advanced Topics"
      ]
    },
    {
      "cell_type": "markdown",
      "metadata": {},
      "source": [
        "### Advanced Functions"
      ]
    },
    {
      "cell_type": "markdown",
      "metadata": {},
      "source": [
        "Topics:\n",
        "* Type hinting\n",
        "* Variable arguments (`*args`, `**kwargs`)\n",
        "* Keyword-only arguments (`*, arg=value`)\n",
        "* Lambda functions"
      ]
    },
    {
      "cell_type": "markdown",
      "metadata": {},
      "source": [
        "**Type Hinting**\n",
        "\n",
        "* *Purpose:* Improve code clarity and catch type errors early using static analysis tools (like MyPy).\n",
        "* *Syntax:*\n",
        "    * `variable: type`\n",
        "    * `def func(param: type, ...) -> return_type:`\n",
        "    * Use `typing` module for complex types: `List[int]`, `Dict[str, float]`, `Optional[str]`, `Union[int, float]`, `Any`"
      ]
    },
    {
      "cell_type": "code",
      "execution_count": 1,
      "metadata": {},
      "outputs": [],
      "source": [
        "from typing import Optional\n",
        "\n",
        "def calculate_area(length: float, width: float) -> Optional[float]:\n",
        "    if length <= 0 or width <= 0:\n",
        "        return None\n",
        "    return length * width\n",
        "\n",
        "result: Optional[float] = calculate_area(10.5, 5.0)"
      ]
    },
    {
      "cell_type": "markdown",
      "metadata": {},
      "source": [
        "**Variable Arguments (`*args`, `**kwargs`)**\n",
        "\n",
        "* *Purpose:* Allow functions to accept an arbitrary number of positional (`*args`) or keyword (`**kwargs`) arguments.\n",
        "* *Syntax:*\n",
        "    * `def func(*args): ...` ( `args` becomes a `tuple` )\n",
        "    * `def func(**kwargs): ...` ( `kwargs` becomes a `dict` )\n",
        "    * `def func(pos1, *args, key1=\"val\", **kwargs): ...` (Order matters)"
      ]
    },
    {
      "cell_type": "code",
      "execution_count": 2,
      "metadata": {},
      "outputs": [
        {
          "name": "stdout",
          "output_type": "stream",
          "text": [
            "Values received: (1.1, 2.2, 3.3)\n",
            "Options: {'verbose': True, 'unit': 'm'}\n",
            "Average: 2.1999999999999997\n",
            "Verbose mode ON\n"
          ]
        }
      ],
      "source": [
        "from typing import Any\n",
        "\n",
        "def process_data(*values: float, **options: Any):\n",
        "    print(f\"Values received: {values}\")     # Tuple\n",
        "    print(f\"Options: {options}\")            # Dictionary\n",
        "    avg = sum(values) / len(values) if values else 0\n",
        "    print(f\"Average: {avg}\")\n",
        "    if options.get(\"verbose\", False):\n",
        "        print(\"Verbose mode ON\")\n",
        "\n",
        "process_data(1.1, 2.2, 3.3, verbose=True, unit=\"m\")"
      ]
    },
    {
      "cell_type": "markdown",
      "metadata": {},
      "source": [
        "**Keyword-Only Arguments**\n",
        "\n",
        "* *Purpose:* Force specific arguments to be passed using their keyword, improving call clarity, especially for flags or optional parameters.\n",
        "* *Syntax:* Define arguments *after* `*` or `*args`.\n",
        "    * `def func(pos_arg, *, key_only_arg1: bool, key_only_arg2=\"default\"): ...`"
      ]
    },
    {
      "cell_type": "code",
      "execution_count": 3,
      "metadata": {},
      "outputs": [
        {
          "name": "stdout",
          "output_type": "stream",
          "text": [
            "Configuring Sensor_A...\n",
            "Logging enabled.\n",
            "Max retries: 5\n"
          ]
        },
        {
          "ename": "TypeError",
          "evalue": "configure_system() takes 1 positional argument but 3 were given",
          "output_type": "error",
          "traceback": [
            "\u001b[1;31m---------------------------------------------------------------------------\u001b[0m",
            "\u001b[1;31mTypeError\u001b[0m                                 Traceback (most recent call last)",
            "Cell \u001b[1;32mIn[3], line 11\u001b[0m\n\u001b[0;32m      8\u001b[0m configure_system(\u001b[38;5;124m\"\u001b[39m\u001b[38;5;124mSensor_A\u001b[39m\u001b[38;5;124m\"\u001b[39m, enable_logging\u001b[38;5;241m=\u001b[39m\u001b[38;5;28;01mTrue\u001b[39;00m, retries\u001b[38;5;241m=\u001b[39m\u001b[38;5;241m5\u001b[39m)\n\u001b[0;32m     10\u001b[0m \u001b[38;5;66;03m# WRONG call (will raise TypeError):\u001b[39;00m\n\u001b[1;32m---> 11\u001b[0m \u001b[43mconfigure_system\u001b[49m\u001b[43m(\u001b[49m\u001b[38;5;124;43m\"\u001b[39;49m\u001b[38;5;124;43mSensor_B\u001b[39;49m\u001b[38;5;124;43m\"\u001b[39;49m\u001b[43m,\u001b[49m\u001b[43m \u001b[49m\u001b[38;5;28;43;01mTrue\u001b[39;49;00m\u001b[43m,\u001b[49m\u001b[43m \u001b[49m\u001b[38;5;241;43m2\u001b[39;49m\u001b[43m)\u001b[49m\n",
            "\u001b[1;31mTypeError\u001b[0m: configure_system() takes 1 positional argument but 3 were given"
          ]
        }
      ],
      "source": [
        "def configure_system(device_id: str, *, enable_logging: bool = False, retries: int = 3):\n",
        "    print(f\"Configuring {device_id}...\")\n",
        "    if enable_logging:\n",
        "        print(\"Logging enabled.\")\n",
        "    print(f\"Max retries: {retries}\")\n",
        "\n",
        "# Correct call:\n",
        "configure_system(\"Sensor_A\", enable_logging=True, retries=5)\n",
        "\n",
        "# WRONG call (will raise TypeError):\n",
        "configure_system(\"Sensor_B\", True, 2)"
      ]
    },
    {
      "cell_type": "markdown",
      "metadata": {},
      "source": [
        "**Lambda Functions**\n",
        "\n",
        "* *Purpose:* Create small, anonymous, single-expression functions, often used as arguments to other functions (`sorted`, `map`, `filter`).\n",
        "* *Syntax:* `lambda arguments: expression`"
      ]
    },
    {
      "cell_type": "code",
      "execution_count": 4,
      "metadata": {},
      "outputs": [
        {
          "name": "stdout",
          "output_type": "stream",
          "text": [
            "Sorted by y: [(4, 1), (3, 2), (1, 5), (9, 8)]\n"
          ]
        }
      ],
      "source": [
        "points = [(1, 5), (3, 2), (9, 8), (4, 1)]\n",
        "\n",
        "# Sort points based on the second element (y-coordinate)\n",
        "sorted_points = sorted(points, key=lambda p: p[1])\n",
        "print(f\"Sorted by y: {sorted_points}\")"
      ]
    },
    {
      "cell_type": "code",
      "execution_count": 5,
      "metadata": {},
      "outputs": [
        {
          "name": "stdout",
          "output_type": "stream",
          "text": [
            "Filtered (x > 3): [(9, 8), (4, 1)]\n"
          ]
        }
      ],
      "source": [
        "# Filter points where x > 3\n",
        "filtered_points = list(filter(lambda p: p[0] > 3, points))\n",
        "print(f\"Filtered (x > 3): {filtered_points}\")"
      ]
    },
    {
      "cell_type": "markdown",
      "metadata": {},
      "source": [
        "### Decorators"
      ]
    },
    {
      "cell_type": "markdown",
      "metadata": {},
      "source": [
        "Decorators allows you to modify the behavior of a function or method."
      ]
    },
    {
      "cell_type": "markdown",
      "metadata": {
        "id": "LI1OithJjv2J"
      },
      "source": [
        "```\n",
        "DECORATOR(function_name):\n",
        "  - START\n",
        "    - Create a new function called \"wrapper\" that takes the same arguments as \"function_name\"\n",
        "    - Inside \"wrapper\":\n",
        "      - Do something BEFORE calling \"function_name\" (e.g., logging)\n",
        "      - Call \"function_name\" with the arguments received by \"wrapper\" and store the result in a variable\n",
        "      - Do something AFTER calling \"function_name\" (e.g., modify the result)\n",
        "  - RETURN \"wrapper\"\n",
        "```"
      ]
    },
    {
      "cell_type": "code",
      "execution_count": 1,
      "metadata": {
        "colab": {
          "base_uri": "https://localhost:8080/"
        },
        "id": "kF0uSGpYcMTX",
        "outputId": "b266ea57-f405-4ffc-90af-b601a24bc88a"
      },
      "outputs": [
        {
          "name": "stdout",
          "output_type": "stream",
          "text": [
            "Function square is formatted now!\n",
            "25\n"
          ]
        }
      ],
      "source": [
        "def formatting_decorator(func):\n",
        "    def wrapper(*args, **kwargs):\n",
        "        result = func(*args, **kwargs)\n",
        "        print('Function {} is formatted now!'.format(func.__name__))\n",
        "        return result\n",
        "    return wrapper\n",
        "\n",
        "@formatting_decorator\n",
        "def square(x):\n",
        "    return x * x\n",
        "\n",
        "result = square(5)\n",
        "print(result)"
      ]
    },
    {
      "cell_type": "code",
      "execution_count": 2,
      "metadata": {},
      "outputs": [
        {
          "name": "stdout",
          "output_type": "stream",
          "text": [
            "Function square executed in 0.00 seconds.\n",
            "25\n"
          ]
        }
      ],
      "source": [
        "import time\n",
        "\n",
        "def timing_decorator(func):\n",
        "  def wrapper(*args, **kwargs):\n",
        "    start_time = time.time()\n",
        "    result = func(*args, **kwargs)\n",
        "    end_time = time.time()\n",
        "    exec_time = end_time - start_time\n",
        "    print(f\"Function {func.__name__} executed in {exec_time:.2f} seconds.\")\n",
        "    return result\n",
        "  return wrapper\n",
        "\n",
        "@timing_decorator\n",
        "def square(x):\n",
        "    return x * x\n",
        "\n",
        "result = square(5)\n",
        "print(result)"
      ]
    },
    {
      "cell_type": "code",
      "execution_count": 3,
      "metadata": {},
      "outputs": [
        {
          "name": "stdout",
          "output_type": "stream",
          "text": [
            "Sensor data timestamp: 100\n",
            "Sensor data timestamp: 3.5\n"
          ]
        }
      ],
      "source": [
        "# Encapsulation: \n",
        "## Information Hiding (discussed in previous sections)\n",
        "## Controlled Access: Most Pythonic way. Achieved through @property decorator.\n",
        "\n",
        "class SensorData(object):\n",
        "    \"\"\"Represents sensor data with private attributes and access methods\"\"\"\n",
        "    def __init__(self, timestamp, value):\n",
        "        # Type 1: Name Mangling (stronger suggestion of privacy, avoids subclass collisions)\n",
        "        self.__timestamp = timestamp\n",
        "\n",
        "        # Type 2: Convention (signals internal use, relies on developer discipline)\n",
        "        self._value = value\n",
        "\n",
        "    @property\n",
        "    def timestamp(self):\n",
        "        return self.__timestamp\n",
        "    \n",
        "    @timestamp.setter\n",
        "    def timestamp(self, new_timestamp):\n",
        "        self.__timestamp = new_timestamp\n",
        "    \n",
        "    @property\n",
        "    def value(self):\n",
        "        return self._value\n",
        "    \n",
        "    @value.setter\n",
        "    def value(self, new_value):\n",
        "        self._value = new_value\n",
        "\n",
        "sensor_data = SensorData(100, 3.5)\n",
        "print(f\"Sensor data timestamp: {sensor_data.timestamp}\")\n",
        "print(f\"Sensor data timestamp: {sensor_data.value}\")"
      ]
    },
    {
      "cell_type": "markdown",
      "metadata": {},
      "source": [
        "### Differentiation"
      ]
    },
    {
      "cell_type": "markdown",
      "metadata": {},
      "source": [
        "**Reference**: [Mathematics for Machine Learning and Data Science Specialization - Coursera](https://www.coursera.org/specializations/mathematics-for-machine-learning-and-data-science)"
      ]
    },
    {
      "cell_type": "markdown",
      "metadata": {
        "id": "An3zztrvk6XA"
      },
      "source": [
        "Topics:\n",
        "* Calculus and optimization recap\n",
        "* Symbolic differentiation\n",
        "* Numerical differentiation\n",
        "* Automatic differentiation"
      ]
    },
    {
      "cell_type": "markdown",
      "metadata": {},
      "source": [
        "**Calculus Recap:**\n",
        "* $g(x)$ and $f(x)$ are inverses, denoted by $g(x) = f^{-1}(x)$, when $g(f(x)) = x$\n",
        "* Derivative of inverse:\n",
        "    * $g'(y) = f'^{-1}(y) = \\frac{1}{f'(x)}$ at $(x, y)$\n",
        "* $\\displaystyle{\\lim_{x\\to\\infty}(1 + \\frac{1}{n})^n} = e$\n",
        "    * Constant $e$: Perfect (%100) compound growth in 1 period\n",
        "    * In general $growth = e^{rate\\times time}$\n",
        "        * Example: For 120 dollars with %5 interest, the continuous (compound) growth after 10 years will be $120 \\times e^{0.05 \\times 10} = 197.85$\n",
        "* $log(x)$ is the inverse of $e^x$\n",
        "    * $\\frac{d}{dx} e^x = e^x$\n",
        "    * $\\frac{d}{dx} log(x) = \\frac{1}{x}$\n",
        "* Sum Rule:\n",
        "    * $f = f_1 + f_2 ⇒ f' = f'_1 + f'_2$\n",
        "* Product Rule:\n",
        "    * $f(x) = g(x).h(x) ⇒ f'(x) = g'(x).h(x) + g(x).h'(x)$\n",
        "* Chain Rule:\n",
        "    * $\\frac{d}{dx} f(g(h(x))) = \\frac{df}{dg} \\times \\frac{dg}{dh} \\times \\frac{dh}{dx}$\n",
        "\n",
        "**Optimization Recap:**\n",
        "* Gradient Descent:  \n",
        "    * Define a learning rate $\\alpha$ and a starting point $(x_0, y_0)$\n",
        "    * Update: $x_k = x_{k-1} - \\alpha f'(x_{k-1})$  \n",
        "$[\\begin{matrix}x_{k}\\\\ y_{k}\\end{matrix}]=[\\begin{matrix}x_{k-1}\\\\ y_{k-1}\\end{matrix}]-\\alpha\\nabla f(x_{k-1},y_{k-1})$  \n",
        "    * Repeat untill you're close enough to $x^{*}$  \n",
        "\n",
        "* Newton's Method:\n",
        "    * Start at $x_0$\n",
        "    * Update $x_{k+1} = x_k - \\frac{f(x)}{f'(x)}$\n",
        "    * Repeat until you find the root of $f(x)$\n",
        "* Newton's Method for Optimization: Apply to Gradient\n",
        "    * Start at $x_0$\n",
        "    * Update $x_{k+1} = x_k - \\frac{g'(x)}{g''(x)}$  \n",
        "$[\\begin{matrix}x_{k+1}\\\\ y_{k+1}\\end{matrix}] = [\\begin{matrix}x_{k}\\\\ y_{k}\\end{matrix}] - H^{-1}(x_{k},y_{k}).\\nabla f(x_{k},y_{k})$\n",
        "\n",
        "Reference: [Mathematics for Machine Learning and Data Science Specialization - Coursera](https://www.coursera.org/specializations/mathematics-for-machine-learning-and-data-science)\n",
        "\n"
      ]
    },
    {
      "cell_type": "markdown",
      "metadata": {},
      "source": [
        "#### Symbolic Differentiation"
      ]
    },
    {
      "cell_type": "code",
      "execution_count": 1,
      "metadata": {},
      "outputs": [],
      "source": [
        "# Code source: Mathematics for Machine Learning and Data Science Specialization - Coursera\n",
        "# Link: https://www.coursera.org/specializations/mathematics-for-machine-learning-and-data-science"
      ]
    },
    {
      "cell_type": "code",
      "execution_count": 2,
      "metadata": {
        "colab": {
          "base_uri": "https://localhost:8080/",
          "height": 39
        },
        "id": "Ig60Z2FDNK6D",
        "outputId": "1e2c08bb-4550-4d68-f2d1-2d6ce16f5cc2"
      },
      "outputs": [
        {
          "data": {
            "text/latex": [
              "$\\displaystyle x^{3} + 6 x$"
            ],
            "text/plain": [
              "x**3 + 6*x"
            ]
          },
          "execution_count": 2,
          "metadata": {},
          "output_type": "execute_result"
        }
      ],
      "source": [
        "import numpy as np\n",
        "from sympy import *\n",
        "from sympy.utilities import lambdify\n",
        "\n",
        "# define symbolic variable, then write an expression\n",
        "x = symbols('x')\n",
        "expr = x**3 + 6*x\n",
        "expr\n"
      ]
    },
    {
      "cell_type": "code",
      "execution_count": 3,
      "metadata": {
        "colab": {
          "base_uri": "https://localhost:8080/",
          "height": 37
        },
        "id": "rRsmDZWvOUhb",
        "outputId": "adcc786c-b28c-41a1-9629-d61b7d04b470"
      },
      "outputs": [
        {
          "data": {
            "text/latex": [
              "$\\displaystyle 7.0$"
            ],
            "text/plain": [
              "7.00000000000000"
            ]
          },
          "execution_count": 3,
          "metadata": {},
          "output_type": "execute_result"
        }
      ],
      "source": [
        "# evaluate expression\n",
        "expr.evalf(subs={x:1})"
      ]
    },
    {
      "cell_type": "code",
      "execution_count": 4,
      "metadata": {
        "colab": {
          "base_uri": "https://localhost:8080/",
          "height": 39
        },
        "id": "MblhfBP6N9Xo",
        "outputId": "8fdd4745-9259-4c10-b21e-cab3a8ffb1eb"
      },
      "outputs": [
        {
          "data": {
            "text/latex": [
              "$\\displaystyle x \\left(x^{2} + 6\\right)$"
            ],
            "text/plain": [
              "x*(x**2 + 6)"
            ]
          },
          "execution_count": 4,
          "metadata": {},
          "output_type": "execute_result"
        }
      ],
      "source": [
        "# factor expression\n",
        "factor(expr)"
      ]
    },
    {
      "cell_type": "code",
      "execution_count": 5,
      "metadata": {
        "colab": {
          "base_uri": "https://localhost:8080/",
          "height": 39
        },
        "id": "1k2Ns3trOD5-",
        "outputId": "4320de70-e55a-4ce1-c628-cc94b7d5fe8a"
      },
      "outputs": [
        {
          "data": {
            "text/latex": [
              "$\\displaystyle 3 x^{2} + 6$"
            ],
            "text/plain": [
              "3*x**2 + 6"
            ]
          },
          "execution_count": 5,
          "metadata": {},
          "output_type": "execute_result"
        }
      ],
      "source": [
        "# differentiate symbolically\n",
        "diff(expr, x)"
      ]
    },
    {
      "cell_type": "code",
      "execution_count": 6,
      "metadata": {
        "colab": {
          "base_uri": "https://localhost:8080/",
          "height": 39
        },
        "id": "-zePkbovk7oZ",
        "outputId": "88b0f578-4402-4022-c734-33153e966fb8"
      },
      "outputs": [
        {
          "data": {
            "text/latex": [
              "$\\displaystyle 6 x$"
            ],
            "text/plain": [
              "6*x"
            ]
          },
          "execution_count": 6,
          "metadata": {},
          "output_type": "execute_result"
        }
      ],
      "source": [
        "# derive 2nd derivative\n",
        "diff(diff(expr, x))"
      ]
    },
    {
      "cell_type": "code",
      "execution_count": 7,
      "metadata": {
        "colab": {
          "base_uri": "https://localhost:8080/",
          "height": 37
        },
        "id": "9IK2lq1WOcbG",
        "outputId": "c66715c1-ef2f-4d08-9724-7c5c14ba4a7c"
      },
      "outputs": [
        {
          "data": {
            "text/latex": [
              "$\\displaystyle 9.0$"
            ],
            "text/plain": [
              "9.00000000000000"
            ]
          },
          "execution_count": 7,
          "metadata": {},
          "output_type": "execute_result"
        }
      ],
      "source": [
        "# calculate gradient\n",
        "diff(expr, x).evalf(subs={x:1})"
      ]
    },
    {
      "cell_type": "code",
      "execution_count": 8,
      "metadata": {},
      "outputs": [
        {
          "data": {
            "text/plain": [
              "array([ 7, 20, 45])"
            ]
          },
          "execution_count": 8,
          "metadata": {},
          "output_type": "execute_result"
        }
      ],
      "source": [
        "# use util functions to apply it to numpy arrays\n",
        "lambdify(x, expr, \"numpy\")(np.array([1,2,3]))"
      ]
    },
    {
      "cell_type": "markdown",
      "metadata": {},
      "source": [
        "#### Numerical Differentiation"
      ]
    },
    {
      "cell_type": "code",
      "execution_count": 1,
      "metadata": {},
      "outputs": [],
      "source": [
        "# Code source: Mathematics for Machine Learning and Data Science Specialization - Coursera\n",
        "# Link: https://www.coursera.org/specializations/mathematics-for-machine-learning-and-data-science"
      ]
    },
    {
      "cell_type": "code",
      "execution_count": 2,
      "metadata": {},
      "outputs": [],
      "source": [
        "import numpy as np\n",
        "import matplotlib.pyplot as plt"
      ]
    },
    {
      "cell_type": "code",
      "execution_count": 3,
      "metadata": {
        "id": "YZc7THqtNfLb"
      },
      "outputs": [],
      "source": [
        "# differentiate numerically using numpy\n",
        "def fn(x):\n",
        "    return x**2\n",
        "\n",
        "x = np.linspace(0,5,50)\n",
        "df_dx = np.gradient(fn(x), x)"
      ]
    },
    {
      "cell_type": "code",
      "execution_count": 4,
      "metadata": {},
      "outputs": [
        {
          "data": {
            "image/png": "[encoded data removed]",
            "text/plain": [
              "<Figure size 500x300 with 1 Axes>"
            ]
          },
          "metadata": {},
          "output_type": "display_data"
        }
      ],
      "source": [
        "plt.plot(x, fn(x), \"teal\", label=\"$f(x) = x^2$\")\n",
        "plt.plot(x, df_dx, \"red\", label=\"$f'(x) = 2x$\")\n",
        "plt.legend()\n",
        "plt.grid(True)\n",
        "fig = plt.gcf()\n",
        "fig.set_size_inches(5,3)\n",
        "plt.show()"
      ]
    },
    {
      "cell_type": "markdown",
      "metadata": {},
      "source": [
        "#### Automatic Differentiation"
      ]
    },
    {
      "cell_type": "code",
      "execution_count": 1,
      "metadata": {},
      "outputs": [],
      "source": [
        "# Code source: Automatic differentiation - JAX official documentation\n",
        "# Link: https://docs.jax.dev/en/latest/automatic-differentiation.html"
      ]
    },
    {
      "cell_type": "code",
      "execution_count": 2,
      "metadata": {},
      "outputs": [],
      "source": [
        "from jax import random\n",
        "import jax.numpy as jnp\n",
        "from jax import jit, vmap, grad, value_and_grad"
      ]
    },
    {
      "cell_type": "code",
      "execution_count": 3,
      "metadata": {
        "colab": {
          "base_uri": "https://localhost:8080/",
          "height": 120
        },
        "id": "25M5AA0bNgXE",
        "outputId": "3bf172f3-a9c4-47f5-fad4-48c9cf227076"
      },
      "outputs": [
        {
          "data": {
            "text/plain": [
              "<function __main__.fun_jax(x)>"
            ]
          },
          "execution_count": 3,
          "metadata": {},
          "output_type": "execute_result"
        }
      ],
      "source": [
        "# differentiate automatically using jax\n",
        "def fun_jax(x):\n",
        "    return x**3 + 3*x\n",
        "\n",
        "grad(fun_jax)"
      ]
    },
    {
      "cell_type": "code",
      "execution_count": 4,
      "metadata": {
        "colab": {
          "base_uri": "https://localhost:8080/"
        },
        "id": "lHCiQJhaQxHI",
        "outputId": "72bab303-1bfe-4612-9a77-8b3fcd0ea4e4"
      },
      "outputs": [
        {
          "data": {
            "text/plain": [
              "Array(30., dtype=float32, weak_type=True)"
            ]
          },
          "execution_count": 4,
          "metadata": {},
          "output_type": "execute_result"
        }
      ],
      "source": [
        "# calculate gradient\n",
        "grad(fun_jax)(3.0)"
      ]
    },
    {
      "cell_type": "code",
      "execution_count": 5,
      "metadata": {
        "colab": {
          "base_uri": "https://localhost:8080/"
        },
        "id": "2tO_ciTvv1JF",
        "outputId": "c3b86e19-cc75-44b0-d422-714e272d9bf4"
      },
      "outputs": [
        {
          "data": {
            "text/plain": [
              "Array(6., dtype=float32, weak_type=True)"
            ]
          },
          "execution_count": 5,
          "metadata": {},
          "output_type": "execute_result"
        }
      ],
      "source": [
        "# calculate nth derivative\n",
        "grad(grad(grad(fun_jax)))(3.0)"
      ]
    },
    {
      "cell_type": "code",
      "execution_count": 6,
      "metadata": {
        "colab": {
          "base_uri": "https://localhost:8080/"
        },
        "id": "Z6QudnLvQ7LQ",
        "outputId": "6e710873-6003-4c6c-c311-7a7b57be5329"
      },
      "outputs": [
        {
          "data": {
            "text/plain": [
              "Array([  6.,  15.,  78., 150.], dtype=float32)"
            ]
          },
          "execution_count": 6,
          "metadata": {},
          "output_type": "execute_result"
        }
      ],
      "source": [
        "# vectorize the operation\n",
        "j_arr = jnp.array([1.,2.,5.,7.])\n",
        "vmap(grad(fun_jax))(j_arr)"
      ]
    },
    {
      "cell_type": "code",
      "execution_count": 7,
      "metadata": {},
      "outputs": [],
      "source": [
        "# z = w1 * x1 + w2 * x2 + w3 * x3 + b\n",
        "# y = sigmoid(z)"
      ]
    },
    {
      "cell_type": "code",
      "execution_count": 8,
      "metadata": {
        "colab": {
          "base_uri": "https://localhost:8080/"
        },
        "id": "_5xPqXofw5a-",
        "outputId": "7d86cd69-a828-41e4-c70a-2c5550e42a74"
      },
      "outputs": [
        {
          "name": "stdout",
          "output_type": "stream",
          "text": [
            "W: [-0.36838785 -2.275689    0.01144757]\n",
            "b: 0.8535516\n"
          ]
        }
      ],
      "source": [
        "@jit\n",
        "def sigmoid(x):\n",
        "    return 0.5 * (jnp.tanh(x / 2) + 1)\n",
        "\n",
        "@jit\n",
        "def predict(W, b, inputs):\n",
        "    return sigmoid(jnp.dot(inputs, W) + b)\n",
        "\n",
        "@jit\n",
        "def loss(W, b):\n",
        "    preds = predict(W, b, inputs)\n",
        "    label_probs = preds * targets + (1 - preds) * (1 - targets)\n",
        "    return -jnp.sum(jnp.log(label_probs))\n",
        "\n",
        "# build a toy dataset\n",
        "inputs = jnp.array([[0.52, 1.12,  0.77],\n",
        "                   [0.88, -1.08, 0.15],\n",
        "                   [0.52, 0.06, -1.30],\n",
        "                   [0.74, -2.49, 1.39]])\n",
        "targets = jnp.array([True, True, False, True])\n",
        "\n",
        "# initialize random coefficients\n",
        "key = random.key(0)\n",
        "key, W_key, b_key = random.split(key, 3)\n",
        "W = random.normal(W_key, (3,))\n",
        "b = random.normal(b_key, ())\n",
        "print(\"W:\",W)\n",
        "print(\"b:\",b)"
      ]
    },
    {
      "cell_type": "code",
      "execution_count": 9,
      "metadata": {
        "colab": {
          "base_uri": "https://localhost:8080/"
        },
        "id": "6Zr6q9D0yN9q",
        "outputId": "28c856d0-0ad2-4545-d531-b253e4520373"
      },
      "outputs": [
        {
          "name": "stdout",
          "output_type": "stream",
          "text": [
            "W_grad [-0.16965583 -0.8774644  -1.4901346 ]\n"
          ]
        }
      ],
      "source": [
        "# differentiate `loss` with respect to the first positional argument\n",
        "W_grad = grad(loss, argnums=0)(W, b)\n",
        "print('W_grad', W_grad)"
      ]
    },
    {
      "cell_type": "code",
      "execution_count": 10,
      "metadata": {
        "colab": {
          "base_uri": "https://localhost:8080/"
        },
        "id": "W7f04f1n01z8",
        "outputId": "bfd57d9d-500e-43aa-bb63-51ca25f597f5"
      },
      "outputs": [
        {
          "name": "stdout",
          "output_type": "stream",
          "text": [
            "W_grad [-0.16965583 -0.8774644  -1.4901346 ]\n",
            "b_grad -0.29227245\n"
          ]
        }
      ],
      "source": [
        "# differentiate with respect to both arguments simultaneously\n",
        "W_grad, b_grad = grad(loss, (0, 1))(W, b)\n",
        "print('W_grad', W_grad)\n",
        "print('b_grad', b_grad)"
      ]
    },
    {
      "cell_type": "code",
      "execution_count": 11,
      "metadata": {
        "colab": {
          "base_uri": "https://localhost:8080/"
        },
        "id": "rRUM4J8HzCO_",
        "outputId": "7b1cc117-b7f5-4bbb-8a9c-7b3e9588c9bf"
      },
      "outputs": [
        {
          "name": "stdout",
          "output_type": "stream",
          "text": [
            "loss value 3.0519385\n",
            "loss value 3.0519385\n"
          ]
        }
      ],
      "source": [
        "# retreive loss value as well\n",
        "loss_value, Wb_grad = value_and_grad(loss, (0, 1))(W, b)\n",
        "print('loss value', loss_value)\n",
        "print('loss value', loss(W, b))"
      ]
    },
    {
      "cell_type": "markdown",
      "metadata": {},
      "source": [
        "## \n",
        "---"
      ]
    },
    {
      "cell_type": "markdown",
      "metadata": {},
      "source": [
        "## Sandbox"
      ]
    },
    {
      "cell_type": "code",
      "execution_count": null,
      "metadata": {},
      "outputs": [],
      "source": [
        "# Practice here\n"
      ]
    }
  ],
  "metadata": {
    "colab": {
      "collapsed_sections": [
        "9aFjdvWkMC9P",
        "G5UwTo14SKz5",
        "ekYT6JNHVcKf",
        "dc9Wnpo0Tlza",
        "s_mZr6toNcTY",
        "GEeK7c7nOdfj",
        "Jn9Urm98OIyb",
        "tPHBMDrMVIJ2",
        "93wjvDo-VLG2",
        "lcJ7y99XU-63",
        "jCPi2Z6TFRfA",
        "V2leJZZcFMhW",
        "N1ypWLJZ7Oq3",
        "GEikzXmmHwxD",
        "ThSkziYxacZH",
        "Dy4P0nrISBeJ"
      ],
      "provenance": [],
      "toc_visible": true
    },
    "kernelspec": {
      "display_name": "deep-dive-ds",
      "language": "python",
      "name": "python3"
    },
    "language_info": {
      "codemirror_mode": {
        "name": "ipython",
        "version": 3
      },
      "file_extension": ".py",
      "mimetype": "text/x-python",
      "name": "python",
      "nbconvert_exporter": "python",
      "pygments_lexer": "ipython3",
      "version": "3.10.16"
    }
  },
  "nbformat": 4,
  "nbformat_minor": 0
}
